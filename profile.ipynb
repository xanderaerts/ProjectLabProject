{
 "cells": [
  {
   "cell_type": "code",
   "execution_count": 1,
   "id": "e23bd473",
   "metadata": {},
   "outputs": [],
   "source": [
    "from pymongo import MongoClient\n",
    "from bson import ObjectId\n",
    "from datetime import datetime, timedelta\n",
    "import pandas as pd\n",
    "import matplotlib.pyplot as plt"
   ]
  },
  {
   "cell_type": "code",
   "execution_count": 3,
   "id": "54bedb84",
   "metadata": {},
   "outputs": [],
   "source": [
    "client = MongoClient(\"mongodb://localhost:27017/\")\n",
    "\t\n",
    "db = client[\"lifesnaps\"]\n",
    "collection = db[\"fitbit\"]\n",
    "\n",
    "person = \"621e2f9167b776a240011ccb\"\n",
    "\n",
    "query = {\n",
    "    \"id\": ObjectId(person),\n",
    "    \"type\": \"Profile\"\n",
    "}\n",
    "\n",
    "doc = collection.find(query)"
   ]
  },
  {
   "cell_type": "code",
   "execution_count": 8,
   "id": "5c7adde6",
   "metadata": {},
   "outputs": [
    {
     "data": {
      "text/html": [
       "<div>\n",
       "<style scoped>\n",
       "    .dataframe tbody tr th:only-of-type {\n",
       "        vertical-align: middle;\n",
       "    }\n",
       "\n",
       "    .dataframe tbody tr th {\n",
       "        vertical-align: top;\n",
       "    }\n",
       "\n",
       "    .dataframe thead th {\n",
       "        text-align: right;\n",
       "    }\n",
       "</style>\n",
       "<table border=\"1\" class=\"dataframe\">\n",
       "  <thead>\n",
       "    <tr style=\"text-align: right;\">\n",
       "      <th></th>\n",
       "      <th>gender</th>\n",
       "      <th>age</th>\n",
       "      <th>bmi</th>\n",
       "    </tr>\n",
       "  </thead>\n",
       "  <tbody>\n",
       "    <tr>\n",
       "      <th>0</th>\n",
       "      <td>FEMALE</td>\n",
       "      <td>&gt;=30</td>\n",
       "      <td>20.0</td>\n",
       "    </tr>\n",
       "  </tbody>\n",
       "</table>\n",
       "</div>"
      ],
      "text/plain": [
       "   gender   age   bmi\n",
       "0  FEMALE  >=30  20.0"
      ]
     },
     "execution_count": 8,
     "metadata": {},
     "output_type": "execute_result"
    }
   ],
   "source": [
    "records = []\n",
    "for doc in collection.find(query):\n",
    "    gender = doc[\"data\"][\"gender\"]\n",
    "    age = doc[\"data\"][\"age\"]\n",
    "    bmi = doc[\"data\"][\"bmi\"]\n",
    "    records.append({\"gender\":gender, \"age\":age, \"bmi\":bmi})\n",
    "    \n",
    "df = pd.DataFrame(records)\n",
    "df"
   ]
  }
 ],
 "metadata": {
  "kernelspec": {
   "display_name": "Python 3",
   "language": "python",
   "name": "python3"
  },
  "language_info": {
   "codemirror_mode": {
    "name": "ipython",
    "version": 3
   },
   "file_extension": ".py",
   "mimetype": "text/x-python",
   "name": "python",
   "nbconvert_exporter": "python",
   "pygments_lexer": "ipython3",
   "version": "3.13.2"
  }
 },
 "nbformat": 4,
 "nbformat_minor": 5
}
