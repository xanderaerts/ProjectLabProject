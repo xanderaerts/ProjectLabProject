{
 "cells": [
  {
   "cell_type": "code",
   "execution_count": null,
   "id": "e23bd473",
   "metadata": {},
   "outputs": [],
   "source": [
    "from pymongo import MongoClient\n",
    "from bson import ObjectId\n",
    "from datetime import datetime, timedelta\n",
    "import pandas as pd\n",
    "import matplotlib.pyplot as plt"
   ]
  },
  {
   "cell_type": "code",
   "execution_count": null,
   "id": "54bedb84",
   "metadata": {},
   "outputs": [],
   "source": [
    "client = MongoClient(\"mongodb://localhost:27017/\")\n",
    "\t\n",
    "db = client[\"lifesnaps\"]\n",
    "collection = db[\"fitbit\"]\n",
    "\n",
    "person = \"621e2f9167b776a240011ccb\"\n",
    "\n",
    "query = {\n",
    "    \"id\": ObjectId(person),\n",
    "    \"type\": \"Profile\"\n",
    "}\n",
    "\n",
    "doc = collection.find(query)"
   ]
  },
  {
   "cell_type": "code",
   "execution_count": null,
   "id": "5c7adde6",
   "metadata": {},
   "outputs": [],
   "source": [
    "records = []\n",
    "for doc in collection.find(query):\n",
    "    gender = doc[\"data\"][\"gender\"]\n",
    "    age = doc[\"data\"][\"age\"]\n",
    "    bmi = doc[\"data\"][\"bmi\"]\n",
    "    records.append({\"gender\":gender, \"age\":age, \"bmi\":bmi})\n",
    "    \n",
    "df = pd.DataFrame(records)\n",
    "df"
   ]
  }
 ],
 "metadata": {
  "kernelspec": {
   "display_name": "Python 3",
   "language": "python",
   "name": "python3"
  },
  "language_info": {
   "codemirror_mode": {
    "name": "ipython",
    "version": 3
   },
   "file_extension": ".py",
   "mimetype": "text/x-python",
   "name": "python",
   "nbconvert_exporter": "python",
   "pygments_lexer": "ipython3",
   "version": "3.13.2"
  }
 },
 "nbformat": 4,
 "nbformat_minor": 5
}
