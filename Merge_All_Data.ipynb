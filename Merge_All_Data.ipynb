{
 "cells": [
  {
   "cell_type": "markdown",
   "id": "294c658f",
   "metadata": {},
   "source": [
    "# Merge all the diffrent data to one big data frame"
   ]
  },
  {
   "cell_type": "code",
   "execution_count": null,
   "id": "da5dbcdc",
   "metadata": {
    "vscode": {
     "languageId": "plaintext"
    }
   },
   "outputs": [],
   "source": []
  }
 ],
 "metadata": {
  "language_info": {
   "name": "python"
  }
 },
 "nbformat": 4,
 "nbformat_minor": 5
}
