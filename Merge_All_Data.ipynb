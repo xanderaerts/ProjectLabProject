{
 "cells": [
  {
   "cell_type": "markdown",
   "id": "294c658f",
   "metadata": {},
   "source": [
    "# Merge all the diffrent data to one big data frame"
   ]
  },
  {
   "cell_type": "code",
   "execution_count": null,
   "id": "f42a31a4",
   "metadata": {},
   "outputs": [],
   "source": [
    "# Data handling and plotting\n",
    "import pandas as pd\n",
    "import matplotlib.pyplot as plt\n",
    "from datetime import datetime\n",
    "from dateutil import parser  # More robust date parsing\n",
    "\n",
    "# MongoDB\n",
    "from pymongo import MongoClient\n",
    "from bson import ObjectId\n"
   ]
  },
  {
   "cell_type": "code",
   "execution_count": null,
   "id": "52fcd853",
   "metadata": {},
   "outputs": [],
   "source": [
    "heart_rate = pd.read_csv(\"csv/Heart_Rate.csv\")\n",
    "print(heart_rate.head())\n",
    "\n",
    "hrv = pd.read_csv(\"csv/HRV.csv\")\n",
    "print(hrv.head())\n",
    "\n",
    "mood = pd.read_csv(\"csv/Mood.csv\")\n",
    "print(mood.head())\n",
    "\n",
    "sleep = pd.read_csv(\"csv/sleep.csv\")\n",
    "print(sleep.head())\n",
    "\n",
    "steps = pd.read_csv(\"csv/steps.csv\")\n",
    "print(steps.head())\n",
    "\n",
    "resting_heart_rate = pd.read_csv(\"csv/resting_heart_rate.csv\")\n",
    "print(resting_heart_rate.head())"
   ]
  },
  {
   "cell_type": "code",
   "execution_count": null,
   "id": "a2a6c0d8",
   "metadata": {},
   "outputs": [],
   "source": [
    "merged = heart_rate.merge(hrv,on='date',how='outer').merge(mood,on='date',how='outer').merge(sleep,on='date',how='outer').merge(steps,on='date',how='outer').merge(resting_heart_rate,on='date',how='outer')"
   ]
  },
  {
   "cell_type": "code",
   "execution_count": null,
   "id": "598d5760",
   "metadata": {},
   "outputs": [],
   "source": [
    "merged.describe()"
   ]
  }
 ],
 "metadata": {
  "kernelspec": {
   "display_name": ".venv",
   "language": "python",
   "name": "python3"
  },
  "language_info": {
   "codemirror_mode": {
    "name": "ipython",
    "version": 3
   },
   "file_extension": ".py",
   "mimetype": "text/x-python",
   "name": "python",
   "nbconvert_exporter": "python",
   "pygments_lexer": "ipython3",
   "version": "3.13.3"
  }
 },
 "nbformat": 4,
 "nbformat_minor": 5
}
