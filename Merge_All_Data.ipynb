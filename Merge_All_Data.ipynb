{
 "cells": [
  {
   "cell_type": "markdown",
   "id": "294c658f",
   "metadata": {},
   "source": [
    "# Merge all the diffrent data to one big data frame"
   ]
  },
  {
   "cell_type": "code",
   "execution_count": 7,
   "id": "f42a31a4",
   "metadata": {},
   "outputs": [],
   "source": [
    "# Data handling and plotting\n",
    "import pandas as pd\n",
    "import matplotlib.pyplot as plt\n",
    "from datetime import datetime\n",
    "from dateutil import parser  # More robust date parsing\n",
    "\n",
    "# MongoDB\n",
    "from pymongo import MongoClient\n",
    "from bson import ObjectId\n",
    "\n",
    "\n",
    "import numpy as np\n",
    "import imblearn\n",
    "import seaborn as sns\n",
    "from sklearn import metrics\n",
    "from sklearn.model_selection import train_test_split\n",
    "from sklearn.metrics import classification_report\n",
    "from sklearn.metrics import accuracy_score\n",
    "from imblearn.metrics import specificity_score\n",
    "from sklearn.metrics import recall_score\n",
    "from sklearn.metrics import precision_score\n",
    "from sklearn.metrics import f1_score\n",
    "from sklearn.ensemble import RandomForestClassifier\n",
    "from sklearn.ensemble import RandomForestRegressor\n",
    "from sklearn.metrics import confusion_matrix\n",
    "\n",
    "import mord\n"
   ]
  },
  {
   "cell_type": "code",
   "execution_count": 8,
   "id": "52fcd853",
   "metadata": {},
   "outputs": [
    {
     "name": "stdout",
     "output_type": "stream",
     "text": [
      "         date  heartrate\n",
      "0  2021-10-23  84.603987\n",
      "1  2021-10-24  78.530959\n",
      "2  2021-10-25  74.846546\n",
      "3  2021-10-26  79.038225\n",
      "4  2021-10-27  78.103234\n",
      "         date   RMSSD  Entropy\n",
      "0  2021-10-24  28.400    2.286\n",
      "1  2021-10-25  23.568    2.109\n",
      "2  2021-10-26  17.974    2.278\n",
      "3  2021-10-27  19.410    2.613\n",
      "4  2021-10-28  19.028    2.443\n",
      "         date  mood_score\n",
      "0  2021-11-15         1.0\n",
      "1  2021-11-16        -3.0\n",
      "2  2021-11-17         0.0\n",
      "3  2021-11-18        -2.0\n",
      "4  2021-11-19        -2.0\n",
      "         date  total_sleep     light      deep       rem  weekly_avg\n",
      "0  2021-10-24     8.750000  5.666667  1.066667  2.016667         NaN\n",
      "1  2021-10-25     5.683333  3.600000  0.650000  1.433333         NaN\n",
      "2  2021-10-26     6.933333  3.700000  1.016667  2.216667         NaN\n",
      "3  2021-10-27     5.033333  2.783333  0.833333  1.416667         NaN\n",
      "4  2021-10-28     8.416667  4.933333  1.333333  2.150000         NaN\n",
      "         date  steps\n",
      "0  2021-10-23   6873\n",
      "1  2021-10-24   5317\n",
      "2  2021-10-25   6640\n",
      "3  2021-10-26   6599\n",
      "4  2021-10-27   7327\n",
      "         date  restingHeartRate    errorRHR\n",
      "0  2021-10-22          0.000000    0.000000\n",
      "1  2021-10-23         65.000000  100.000000\n",
      "2  2021-10-24         64.965289   13.884297\n",
      "3  2021-10-25         66.052319    8.661454\n",
      "4  2021-10-26         67.032057    7.369269\n"
     ]
    }
   ],
   "source": [
    "heart_rate = pd.read_csv(\"csv/Heart_Rate.csv\")\n",
    "print(heart_rate.head())\n",
    "\n",
    "hrv = pd.read_csv(\"csv/HRV.csv\")\n",
    "print(hrv.head())\n",
    "\n",
    "mood = pd.read_csv(\"csv/Mood.csv\")\n",
    "print(mood.head())\n",
    "\n",
    "sleep = pd.read_csv(\"csv/sleep.csv\")\n",
    "print(sleep.head())\n",
    "\n",
    "steps = pd.read_csv(\"csv/steps.csv\")\n",
    "print(steps.head())\n",
    "\n",
    "resting_heart_rate = pd.read_csv(\"csv/resting_heart_rate.csv\")\n",
    "print(resting_heart_rate.head())"
   ]
  },
  {
   "cell_type": "code",
   "execution_count": 9,
   "id": "a2a6c0d8",
   "metadata": {},
   "outputs": [],
   "source": [
    "merged = heart_rate.merge(hrv,on='date',how='outer').merge(mood,on='date',how='outer').merge(sleep,on='date',how='outer').merge(steps,on='date',how='outer').merge(resting_heart_rate,on='date',how='outer')"
   ]
  },
  {
   "cell_type": "code",
   "execution_count": 10,
   "id": "5f532cef",
   "metadata": {},
   "outputs": [
    {
     "data": {
      "text/html": [
       "<div>\n",
       "<style scoped>\n",
       "    .dataframe tbody tr th:only-of-type {\n",
       "        vertical-align: middle;\n",
       "    }\n",
       "\n",
       "    .dataframe tbody tr th {\n",
       "        vertical-align: top;\n",
       "    }\n",
       "\n",
       "    .dataframe thead th {\n",
       "        text-align: right;\n",
       "    }\n",
       "</style>\n",
       "<table border=\"1\" class=\"dataframe\">\n",
       "  <thead>\n",
       "    <tr style=\"text-align: right;\">\n",
       "      <th></th>\n",
       "      <th>heartrate</th>\n",
       "      <th>RMSSD</th>\n",
       "      <th>Entropy</th>\n",
       "      <th>mood_score</th>\n",
       "      <th>total_sleep</th>\n",
       "      <th>light</th>\n",
       "      <th>deep</th>\n",
       "      <th>rem</th>\n",
       "      <th>weekly_avg</th>\n",
       "      <th>steps</th>\n",
       "      <th>restingHeartRate</th>\n",
       "      <th>errorRHR</th>\n",
       "    </tr>\n",
       "  </thead>\n",
       "  <tbody>\n",
       "    <tr>\n",
       "      <th>count</th>\n",
       "      <td>66</td>\n",
       "      <td>66</td>\n",
       "      <td>66</td>\n",
       "      <td>66</td>\n",
       "      <td>66</td>\n",
       "      <td>66</td>\n",
       "      <td>66</td>\n",
       "      <td>66</td>\n",
       "      <td>66</td>\n",
       "      <td>66</td>\n",
       "      <td>66</td>\n",
       "      <td>66</td>\n",
       "    </tr>\n",
       "    <tr>\n",
       "      <th>unique</th>\n",
       "      <td>1</td>\n",
       "      <td>1</td>\n",
       "      <td>1</td>\n",
       "      <td>1</td>\n",
       "      <td>1</td>\n",
       "      <td>1</td>\n",
       "      <td>1</td>\n",
       "      <td>1</td>\n",
       "      <td>1</td>\n",
       "      <td>1</td>\n",
       "      <td>1</td>\n",
       "      <td>1</td>\n",
       "    </tr>\n",
       "    <tr>\n",
       "      <th>top</th>\n",
       "      <td>False</td>\n",
       "      <td>False</td>\n",
       "      <td>False</td>\n",
       "      <td>False</td>\n",
       "      <td>False</td>\n",
       "      <td>False</td>\n",
       "      <td>False</td>\n",
       "      <td>False</td>\n",
       "      <td>False</td>\n",
       "      <td>False</td>\n",
       "      <td>False</td>\n",
       "      <td>False</td>\n",
       "    </tr>\n",
       "    <tr>\n",
       "      <th>freq</th>\n",
       "      <td>66</td>\n",
       "      <td>66</td>\n",
       "      <td>66</td>\n",
       "      <td>66</td>\n",
       "      <td>66</td>\n",
       "      <td>66</td>\n",
       "      <td>66</td>\n",
       "      <td>66</td>\n",
       "      <td>66</td>\n",
       "      <td>66</td>\n",
       "      <td>66</td>\n",
       "      <td>66</td>\n",
       "    </tr>\n",
       "  </tbody>\n",
       "</table>\n",
       "</div>"
      ],
      "text/plain": [
       "       heartrate  RMSSD Entropy mood_score total_sleep  light   deep    rem  \\\n",
       "count         66     66      66         66          66     66     66     66   \n",
       "unique         1      1       1          1           1      1      1      1   \n",
       "top        False  False   False      False       False  False  False  False   \n",
       "freq          66     66      66         66          66     66     66     66   \n",
       "\n",
       "       weekly_avg  steps restingHeartRate errorRHR  \n",
       "count          66     66               66       66  \n",
       "unique          1      1                1        1  \n",
       "top         False  False            False    False  \n",
       "freq           66     66               66       66  "
      ]
     },
     "execution_count": 10,
     "metadata": {},
     "output_type": "execute_result"
    }
   ],
   "source": [
    "merged = merged.dropna(thresh=7) #Alle records met te veel missende features droppen\n",
    "merged = merged[~merged['mood_score'].isna()] #Enkel de records waar een moodscore voor is gebruiken\n",
    "merged = merged.drop(columns=\"date\") #Date bevat geen nuttige gegevens met wat we willen onderzoeken\n",
    "merged.isna().describe()"
   ]
  },
  {
   "cell_type": "markdown",
   "id": "598d5760",
   "metadata": {},
   "source": [
    "\n",
    "## Model training"
   ]
  },
  {
   "cell_type": "code",
   "execution_count": 11,
   "id": "25b6b7c3",
   "metadata": {},
   "outputs": [],
   "source": [
    "def train_RandomForestModel(X_train, y_train):\n",
    "    model = RandomForestClassifier()\n",
    "    model.fit(X_train, y_train)\n",
    "    return model\n",
    "\n",
    "def evaluate_model(y_true, y_pred):\n",
    "    acc = accuracy_score(y_true, y_pred)\n",
    "    prec = precision_score(y_true, y_pred, average='weighted', zero_division=0)\n",
    "    recall = recall_score(y_true, y_pred, average='weighted')\n",
    "    spec = specificity_score(y_true, y_pred, average='weighted') \n",
    "    return {'accuracy': acc, 'precision': prec, 'recall': recall, 'specificity': spec}\n",
    "\n",
    "def train_OrdinalLogisticRegrModel(X_train, y_train):\n",
    "    model = mord.LogisticIT()\n",
    "    model.fit(X_train, y_train)\n",
    "    return model"
   ]
  },
  {
   "cell_type": "code",
   "execution_count": 12,
   "id": "5f67d7d1",
   "metadata": {},
   "outputs": [],
   "source": [
    "X = merged.drop(columns=\"mood_score\")\n",
    "y = merged['mood_score'].astype(int)"
   ]
  },
  {
   "cell_type": "code",
   "execution_count": 13,
   "id": "e087eaa1",
   "metadata": {},
   "outputs": [],
   "source": [
    "X_train, X_test, y_train, y_test = train_test_split(X, y, test_size=0.30, random_state=42)\n",
    "\n",
    "rfModel = train_RandomForestModel(X_train, y_train)\n",
    "y_pred = rfModel.predict(X_test)\n",
    "metricsRf = evaluate_model(y_test, y_pred)"
   ]
  },
  {
   "cell_type": "code",
   "execution_count": 14,
   "id": "a934f4f2",
   "metadata": {},
   "outputs": [
    {
     "name": "stdout",
     "output_type": "stream",
     "text": [
      "accuracy 0.2\n",
      "precision 0.17083333333333334\n",
      "recall 0.2\n",
      "specificity 0.8208462332301341\n"
     ]
    }
   ],
   "source": [
    "for x, y in metricsRf.items():\n",
    "  print(x, y)"
   ]
  },
  {
   "cell_type": "code",
   "execution_count": 15,
   "id": "0f2eb4dd",
   "metadata": {},
   "outputs": [
    {
     "data": {
      "text/plain": [
       "Text(77.92222222222227, 0.5, 'Actual')"
      ]
     },
     "execution_count": 15,
     "metadata": {},
     "output_type": "execute_result"
    },
    {
     "data": {
      "image/png": "[encoded data removed]",
      "text/plain": [
       "<Figure size 640x480 with 2 Axes>"
      ]
     },
     "metadata": {},
     "output_type": "display_data"
    }
   ],
   "source": [
    "cm = confusion_matrix(y_test,y_pred)\n",
    "plt.figure()\n",
    "sns.heatmap(cm, annot=True, square = True, cmap = 'Blues_r')\n",
    "plt.title(f'Accuracy: {metricsRf['accuracy']}')\n",
    "plt.xlabel('Predicted')\n",
    "plt.ylabel('Actual')"
   ]
  },
  {
   "cell_type": "code",
   "execution_count": 16,
   "id": "805f7d20",
   "metadata": {},
   "outputs": [
    {
     "data": {
      "text/plain": [
       "Text(77.92222222222227, 0.5, 'Actual')"
      ]
     },
     "execution_count": 16,
     "metadata": {},
     "output_type": "execute_result"
    },
    {
     "data": {
      "image/png": "[encoded data removed]",
      "text/plain": [
       "<Figure size 640x480 with 2 Axes>"
      ]
     },
     "metadata": {},
     "output_type": "display_data"
    }
   ],
   "source": [
    "olrModel = train_OrdinalLogisticRegrModel(X_train, y_train)\n",
    "y_pred = olrModel.predict(X_test)\n",
    "metricsOlr = evaluate_model(y_test, y_pred)\n",
    "\n",
    "cm = confusion_matrix(y_test,y_pred)\n",
    "plt.figure()\n",
    "sns.heatmap(cm, annot=True, square = True, cmap = 'Blues_r')\n",
    "plt.title(f'Accuracy: {metricsOlr['accuracy']}')\n",
    "plt.xlabel('Predicted')\n",
    "plt.ylabel('Actual')"
   ]
  }
 ],
 "metadata": {
  "kernelspec": {
   "display_name": ".venv",
   "language": "python",
   "name": "python3"
  },
  "language_info": {
   "codemirror_mode": {
    "name": "ipython",
    "version": 3
   },
   "file_extension": ".py",
   "mimetype": "text/x-python",
   "name": "python",
   "nbconvert_exporter": "python",
   "pygments_lexer": "ipython3",
   "version": "3.13.3"
  }
 },
 "nbformat": 4,
 "nbformat_minor": 5
}
