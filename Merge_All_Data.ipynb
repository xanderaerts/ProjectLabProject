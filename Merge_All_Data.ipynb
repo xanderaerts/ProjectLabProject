{
 "cells": [
  {
   "cell_type": "markdown",
   "id": "294c658f",
   "metadata": {},
   "source": [
    "# Merge all the diffrent data to one big data frame"
   ]
  },
  {
   "cell_type": "code",
   "execution_count": 50,
   "id": "f42a31a4",
   "metadata": {},
   "outputs": [],
   "source": [
    "# Data handling and plotting\n",
    "import pandas as pd\n",
    "import matplotlib.pyplot as plt\n",
    "from datetime import datetime\n",
    "from dateutil import parser  # More robust date parsing\n",
    "\n",
    "# MongoDB\n",
    "from pymongo import MongoClient\n",
    "from bson import ObjectId\n",
    "\n",
    "\n",
    "import numpy as np\n",
    "import imblearn\n",
    "import seaborn as sns\n",
    "from sklearn import metrics\n",
    "from sklearn.model_selection import train_test_split\n",
    "from sklearn.metrics import classification_report\n",
    "from sklearn.metrics import accuracy_score\n",
    "from imblearn.metrics import specificity_score\n",
    "from sklearn.metrics import recall_score\n",
    "from sklearn.metrics import precision_score\n",
    "from sklearn.metrics import f1_score\n",
    "from sklearn.ensemble import RandomForestClassifier\n",
    "from sklearn.ensemble import RandomForestRegressor\n",
    "from sklearn.metrics import confusion_matrix\n",
    "\n",
    "import mord\n"
   ]
  },
  {
   "cell_type": "code",
   "execution_count": null,
   "id": "52fcd853",
   "metadata": {},
   "outputs": [],
   "source": [
    "heart_rate = pd.read_csv(\"csv/Heart_Rate.csv\")\n",
    "print(heart_rate.head())\n",
    "\n",
    "hrv = pd.read_csv(\"csv/HRV.csv\")\n",
    "print(hrv.head())\n",
    "\n",
    "mood = pd.read_csv(\"csv/Mood.csv\")\n",
    "print(mood.head())\n",
    "\n",
    "sleep = pd.read_csv(\"csv/sleep.csv\")\n",
    "print(sleep.head())\n",
    "\n",
    "steps = pd.read_csv(\"csv/steps.csv\")\n",
    "print(steps.head())\n",
    "\n",
    "resting_heart_rate = pd.read_csv(\"csv/resting_heart_rate.csv\")\n",
    "print(resting_heart_rate.head())"
   ]
  },
  {
   "cell_type": "code",
   "execution_count": 52,
   "id": "a2a6c0d8",
   "metadata": {},
   "outputs": [],
   "source": [
    "merged = heart_rate.merge(hrv,on='date',how='outer').merge(mood,on='date',how='outer').merge(sleep,on='date',how='outer').merge(steps,on='date',how='outer').merge(resting_heart_rate,on='date',how='outer')"
   ]
  },
  {
   "cell_type": "code",
   "execution_count": null,
   "id": "5f532cef",
   "metadata": {},
   "outputs": [],
   "source": [
    "merged = merged.dropna(thresh=7) #Alle records met te veel missende features droppen\n",
    "merged = merged[~merged['mood_score'].isna()] #Enkel de records waar een moodscore voor is gebruiken\n",
    "merged = merged.drop(columns=\"date\") #Date bevat geen nuttige gegevens met wat we willen onderzoeken\n",
    "merged.isna().describe()"
   ]
  },
  {
   "cell_type": "markdown",
   "id": "598d5760",
   "metadata": {},
   "source": [
    "\n",
    "## Model training"
   ]
  },
  {
   "cell_type": "code",
   "execution_count": 54,
   "id": "25b6b7c3",
   "metadata": {},
   "outputs": [],
   "source": [
    "def train_RandomForestModel(X_train, y_train):\n",
    "    model = RandomForestClassifier()\n",
    "    model.fit(X_train, y_train)\n",
    "    return model\n",
    "\n",
    "def evaluate_model(y_true, y_pred):\n",
    "    acc = accuracy_score(y_true, y_pred)\n",
    "    prec = precision_score(y_true, y_pred, average='weighted', zero_division=0)\n",
    "    recall = recall_score(y_true, y_pred, average='weighted')\n",
    "    spec = specificity_score(y_true, y_pred, average='weighted') \n",
    "    return {'accuracy': acc, 'precision': prec, 'recall': recall, 'specificity': spec}\n",
    "\n",
    "def train_OrdinalLogisticRegrModel(X_train, y_train):\n",
    "    model = mord.LogisticIT()\n",
    "    model.fit(X_train, y_train)\n",
    "    return model"
   ]
  },
  {
   "cell_type": "code",
   "execution_count": 55,
   "id": "5f67d7d1",
   "metadata": {},
   "outputs": [],
   "source": [
    "X = merged.drop(columns=\"mood_score\")\n",
    "y = merged['mood_score'].astype(int)"
   ]
  },
  {
   "cell_type": "code",
   "execution_count": 56,
   "id": "e087eaa1",
   "metadata": {},
   "outputs": [],
   "source": [
    "X_train, X_test, y_train, y_test = train_test_split(X, y, test_size=0.30, random_state=42)\n",
    "\n",
    "rfModel = train_RandomForestModel(X_train, y_train)\n",
    "y_pred = rfModel.predict(X_test)\n",
    "metricsRf = evaluate_model(y_test, y_pred)"
   ]
  },
  {
   "cell_type": "code",
   "execution_count": null,
   "id": "a934f4f2",
   "metadata": {},
   "outputs": [],
   "source": [
    "for x, y in metricsRf.items():\n",
    "  print(x, y)"
   ]
  },
  {
   "cell_type": "code",
   "execution_count": null,
   "id": "0f2eb4dd",
   "metadata": {},
   "outputs": [],
   "source": [
    "cm = confusion_matrix(y_test,y_pred)\n",
    "plt.figure()\n",
    "sns.heatmap(cm, annot=True, square = True, cmap = 'Blues_r')\n",
    "plt.title(f'Accuracy: {metricsRf['accuracy']}')\n",
    "plt.xlabel('Predicted')\n",
    "plt.ylabel('Actual')"
   ]
  },
  {
   "cell_type": "code",
   "execution_count": null,
   "id": "805f7d20",
   "metadata": {},
   "outputs": [],
   "source": [
    "olrModel = train_OrdinalLogisticRegrModel(X_train, y_train)\n",
    "y_pred = olrModel.predict(X_test)\n",
    "metricsOlr = evaluate_model(y_test, y_pred)\n",
    "\n",
    "cm = confusion_matrix(y_test,y_pred)\n",
    "plt.figure()\n",
    "sns.heatmap(cm, annot=True, square = True, cmap = 'Blues_r')\n",
    "plt.title(f'Accuracy: {metricsOlr['accuracy']}')\n",
    "plt.xlabel('Predicted')\n",
    "plt.ylabel('Actual')"
   ]
  }
 ],
 "metadata": {
  "kernelspec": {
   "display_name": ".venv",
   "language": "python",
   "name": "python3"
  },
  "language_info": {
   "codemirror_mode": {
    "name": "ipython",
    "version": 3
   },
   "file_extension": ".py",
   "mimetype": "text/x-python",
   "name": "python",
   "nbconvert_exporter": "python",
   "pygments_lexer": "ipython3",
   "version": "3.13.3"
  }
 },
 "nbformat": 4,
 "nbformat_minor": 5
}
