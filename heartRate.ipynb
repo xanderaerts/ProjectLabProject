{
 "cells": [
  {
   "cell_type": "code",
   "execution_count": null,
   "id": "f0e06ee0",
   "metadata": {},
   "outputs": [],
   "source": [
    "from pymongo import MongoClient\n",
    "from bson import ObjectId\n",
    "import pandas as pd\n",
    "from datetime import datetime as datetime\n",
    "client = MongoClient(\"mongodb://localhost:27017\")\n",
    "\n",
    "db = client[\"lifesnaps\"] \n",
    "collection = db[\"fitbit\"]\n",
    "\n",
    "userID = ObjectId(\"621e2f9167b776a240011ccb\")\n",
    "\n",
    "print(\"test\")\n",
    "\n"
   ]
  },
  {
   "cell_type": "markdown",
   "id": "a39a4081",
   "metadata": {},
   "source": [
    "QRY en Projection instellen + query uitvoeren en in dataframe steken"
   ]
  },
  {
   "cell_type": "code",
   "execution_count": null,
   "id": "37f21639",
   "metadata": {},
   "outputs": [],
   "source": [
    "qry = {\n",
    "    \"id\": userID,\n",
    "    \"type\": \"heart_rate\",\n",
    "  }\n",
    "projection = {\n",
    "    \"_id\": 0\n",
    "}\n",
    "rawDocs = list(collection.find(qry,projection))\n",
    "\n",
    "# Convert to DataFrame\n",
    "flatDocs = []\n",
    "for doc in rawDocs:\n",
    "    data = doc.get(\"data\",{})\n",
    "    value = data.get(\"value\",{})\n",
    "    \n",
    "    if value[\"confidence\"] > 0: # confidence van 0 niet inbegrepen -> te onzeker\n",
    "        flatDocs.append({\n",
    "            \"dateTime\": data[\"dateTime\"],\n",
    "            \"heartrate\": value[\"bpm\"]        \n",
    "    })\n",
    "\n",
    "\n",
    "df = pd.DataFrame(flatDocs)\n",
    "df[\"dateTime\"] = pd.to_datetime(df[\"dateTime\"], errors='coerce')\n",
    "df[\"heartrate\"] = pd.to_numeric(df[\"heartrate\"], errors='coerce')\n",
    "df.head()\n"
   ]
  },
  {
   "cell_type": "code",
   "execution_count": null,
   "id": "a82f35f2",
   "metadata": {},
   "outputs": [],
   "source": [
    "(df == 0).sum() #Geen missing values"
   ]
  },
  {
   "cell_type": "code",
   "execution_count": null,
   "id": "554ad8c5",
   "metadata": {},
   "outputs": [],
   "source": [
    "\n",
    "df[\"datetime_day\"] = df[\"dateTime\"].dt.floor(\"D\")\n",
    "\n",
    "avgHeartratePerDay = df.groupby(\"datetime_day\")[\"heartrate\"].mean()\n",
    "print(avgHeartratePerDay)\n",
    "\n",
    "avgHeartratePerDay.head()"
   ]
  },
  {
   "cell_type": "code",
   "execution_count": null,
   "id": "590eac23",
   "metadata": {},
   "outputs": [],
   "source": [
    "avgHeartratePerDay.index.name = 'date'\n",
    "avgHeartratePerDay.to_csv('csv/Heart_Rate.csv',index=True)"
   ]
  },
  {
   "cell_type": "code",
   "execution_count": null,
   "id": "8e31895b",
   "metadata": {},
   "outputs": [],
   "source": [
    "import matplotlib.pyplot as plt\n",
    "\n",
    "avgHeartratePerDay.plot(title=\"Average Heart Rate Per Day\", ylabel=\"BPM\")\n",
    "plt.show()"
   ]
  },
  {
   "cell_type": "code",
   "execution_count": null,
   "id": "91f2b3e7",
   "metadata": {},
   "outputs": [],
   "source": [
    "\n",
    "#voor bepaalde dag\n",
    "\n",
    "chosenDay = input()\n",
    "targetDay = pd.to_datetime(chosenDay).date()\n",
    "\n",
    "# Filter op targetDay\n",
    "dfDay = df[df[\"dateTime\"].dt.date == targetDay]\n",
    "\n",
    "# groeperen per groep\n",
    "dfDay[\"hour\"] = dfDay[\"dateTime\"].dt.hour\n",
    "avgHeartratePerHour = dfDay.groupby(\"hour\")[\"heartrate\"].mean()\n",
    "\n",
    "dfChosenDay = df[\"dateTime\"].dt.floor(\"H\")\n",
    "\n",
    "avgHeartratePerHour.plot(title=f\"Average Heart Rate of {targetDay}\", ylabel=\"BPM\")\n",
    "plt.show()\n"
   ]
  },
  {
   "cell_type": "code",
   "execution_count": null,
   "id": "36d2dc92",
   "metadata": {},
   "outputs": [],
   "source": [
    "\n",
    "#grafieken voor verschillende dagen op een rij (hardcoded tho)\n",
    "\n",
    "\n",
    "chosenDay = \"1/1/2022\"\n",
    "targetDay = pd.to_datetime(chosenDay, dayfirst=True).date()  # dayfirst is needed for DD/MM/YYYY\n",
    "endDay = pd.to_datetime(\"5/1/2022\", dayfirst=True).date()\n",
    "\n",
    "for day in pd.date_range(start=targetDay, end=endDay, freq='D'):\n",
    "    # Filter for current day\n",
    "    dfDay = df[df[\"dateTime\"].dt.date == day.date()].copy()\n",
    "\n",
    "    if dfDay.empty:\n",
    "        continue  # skip days with no data\n",
    "\n",
    "    dfDay[\"hour\"] = dfDay[\"dateTime\"].dt.hour\n",
    "    avgHeartratePerHour = dfDay.groupby(\"hour\")[\"heartrate\"].mean()\n",
    "\n",
    "    # Plot\n",
    "    avgHeartratePerHour.plot(title=f\"Average Heart Rate on {day.date()}\", ylabel=\"BPM\")\n",
    "    plt.xlabel(\"Hour of Day\")\n",
    "    plt.tight_layout()\n",
    "    plt.show()\n"
   ]
  }
 ],
 "metadata": {
  "kernelspec": {
   "display_name": ".venv",
   "language": "python",
   "name": "python3"
  },
  "language_info": {
   "codemirror_mode": {
    "name": "ipython",
    "version": 3
   },
   "file_extension": ".py",
   "mimetype": "text/x-python",
   "name": "python",
   "nbconvert_exporter": "python",
   "pygments_lexer": "ipython3",
   "version": "3.13.3"
  }
 },
 "nbformat": 4,
 "nbformat_minor": 5
}
