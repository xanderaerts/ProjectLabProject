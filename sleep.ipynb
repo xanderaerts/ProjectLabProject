{
 "cells": [
  {
   "cell_type": "markdown",
   "id": "92a3979a",
   "metadata": {},
   "source": [
    "Test persoon: 621e346f67b776a24081744f"
   ]
  },
  {
   "cell_type": "code",
   "execution_count": 59,
   "id": "c1db236b",
   "metadata": {},
   "outputs": [],
   "source": [
    "from pymongo import MongoClient\n",
    "from bson import ObjectId\n",
    "from datetime import datetime, timedelta\n",
    "import pandas as pd\n",
    "import matplotlib.pyplot as plt"
   ]
  },
  {
   "cell_type": "code",
   "execution_count": null,
   "id": "cfdd1e95",
   "metadata": {},
   "outputs": [],
   "source": [
    "client = MongoClient(\"mongodb://localhost:27017/\")\n",
    "\t\n",
    "db = client[\"lifesnaps\"]\n",
    "collection = db[\"fitbit\"]\n",
    "\n",
    "person = \"621e2f9167b776a240011ccb\"\n",
    "\n",
    "query = {\n",
    "    \"id\": ObjectId(person),\n",
    "    \"type\": \"sleep\"\n",
    "}\n",
    "\n",
    "doc = collection.find(query)"
   ]
  },
  {
   "cell_type": "code",
   "execution_count": 104,
   "id": "42100f2a",
   "metadata": {},
   "outputs": [
    {
     "name": "stdout",
     "output_type": "stream",
     "text": [
      "foutje\n",
      "foutje\n",
      "foutje\n",
      "foutje\n",
      "foutje\n",
      "foutje\n",
      "foutje\n"
     ]
    }
   ],
   "source": [
    "records = []\n",
    "\n",
    "for doc in collection.find(query):\n",
    "    try:\n",
    "        # Totaal aantal slaap in 1 nacht:\n",
    "        total_sleep = doc[\"data\"][\"minutesAsleep\"]/60\n",
    "        # Deep, light en rem slaap in 1 naacht: \n",
    "        deep = doc[\"data\"][\"levels\"][\"summary\"][\"deep\"][\"minutes\"] / 60\n",
    "        light = doc[\"data\"][\"levels\"][\"summary\"][\"light\"][\"minutes\"] / 60\n",
    "        rem = doc[\"data\"][\"levels\"][\"summary\"][\"rem\"][\"minutes\"] / 60\n",
    "        \n",
    "        date = pd.to_datetime(doc[\"data\"][\"dateOfSleep\"])\n",
    "        records.append({\"date\": date, \"total_sleep\": total_sleep, \"light\": light, \"deep\": deep,\"rem\": rem})\n",
    "    except:\n",
    "        print(\"foutje\")\n",
    "    \n",
    "df = pd.DataFrame(records)\n",
    "df.set_index('date', inplace=True)\n",
    "df = df.sort_index()\n"
   ]
  },
  {
   "cell_type": "code",
   "execution_count": 105,
   "id": "6c6816c9",
   "metadata": {},
   "outputs": [
    {
     "data": {
      "text/html": [
       "<div>\n",
       "<style scoped>\n",
       "    .dataframe tbody tr th:only-of-type {\n",
       "        vertical-align: middle;\n",
       "    }\n",
       "\n",
       "    .dataframe tbody tr th {\n",
       "        vertical-align: top;\n",
       "    }\n",
       "\n",
       "    .dataframe thead th {\n",
       "        text-align: right;\n",
       "    }\n",
       "</style>\n",
       "<table border=\"1\" class=\"dataframe\">\n",
       "  <thead>\n",
       "    <tr style=\"text-align: right;\">\n",
       "      <th></th>\n",
       "      <th>total_sleep</th>\n",
       "      <th>light</th>\n",
       "      <th>deep</th>\n",
       "      <th>rem</th>\n",
       "    </tr>\n",
       "    <tr>\n",
       "      <th>date</th>\n",
       "      <th></th>\n",
       "      <th></th>\n",
       "      <th></th>\n",
       "      <th></th>\n",
       "    </tr>\n",
       "  </thead>\n",
       "  <tbody>\n",
       "    <tr>\n",
       "      <th>2021-10-24</th>\n",
       "      <td>8.750000</td>\n",
       "      <td>5.666667</td>\n",
       "      <td>1.066667</td>\n",
       "      <td>2.016667</td>\n",
       "    </tr>\n",
       "    <tr>\n",
       "      <th>2021-10-25</th>\n",
       "      <td>5.683333</td>\n",
       "      <td>3.600000</td>\n",
       "      <td>0.650000</td>\n",
       "      <td>1.433333</td>\n",
       "    </tr>\n",
       "    <tr>\n",
       "      <th>2021-10-26</th>\n",
       "      <td>6.933333</td>\n",
       "      <td>3.700000</td>\n",
       "      <td>1.016667</td>\n",
       "      <td>2.216667</td>\n",
       "    </tr>\n",
       "    <tr>\n",
       "      <th>2021-10-27</th>\n",
       "      <td>5.033333</td>\n",
       "      <td>2.783333</td>\n",
       "      <td>0.833333</td>\n",
       "      <td>1.416667</td>\n",
       "    </tr>\n",
       "    <tr>\n",
       "      <th>2021-10-28</th>\n",
       "      <td>8.416667</td>\n",
       "      <td>4.933333</td>\n",
       "      <td>1.333333</td>\n",
       "      <td>2.150000</td>\n",
       "    </tr>\n",
       "    <tr>\n",
       "      <th>...</th>\n",
       "      <td>...</td>\n",
       "      <td>...</td>\n",
       "      <td>...</td>\n",
       "      <td>...</td>\n",
       "    </tr>\n",
       "    <tr>\n",
       "      <th>2022-01-14</th>\n",
       "      <td>6.666667</td>\n",
       "      <td>4.016667</td>\n",
       "      <td>0.966667</td>\n",
       "      <td>1.683333</td>\n",
       "    </tr>\n",
       "    <tr>\n",
       "      <th>2022-01-15</th>\n",
       "      <td>8.383333</td>\n",
       "      <td>4.366667</td>\n",
       "      <td>1.300000</td>\n",
       "      <td>2.716667</td>\n",
       "    </tr>\n",
       "    <tr>\n",
       "      <th>2022-01-16</th>\n",
       "      <td>6.016667</td>\n",
       "      <td>4.100000</td>\n",
       "      <td>0.616667</td>\n",
       "      <td>1.300000</td>\n",
       "    </tr>\n",
       "    <tr>\n",
       "      <th>2022-01-17</th>\n",
       "      <td>5.116667</td>\n",
       "      <td>3.350000</td>\n",
       "      <td>0.666667</td>\n",
       "      <td>1.100000</td>\n",
       "    </tr>\n",
       "    <tr>\n",
       "      <th>2022-01-18</th>\n",
       "      <td>6.116667</td>\n",
       "      <td>3.533333</td>\n",
       "      <td>0.633333</td>\n",
       "      <td>1.950000</td>\n",
       "    </tr>\n",
       "  </tbody>\n",
       "</table>\n",
       "<p>89 rows × 4 columns</p>\n",
       "</div>"
      ],
      "text/plain": [
       "            total_sleep     light      deep       rem\n",
       "date                                                 \n",
       "2021-10-24     8.750000  5.666667  1.066667  2.016667\n",
       "2021-10-25     5.683333  3.600000  0.650000  1.433333\n",
       "2021-10-26     6.933333  3.700000  1.016667  2.216667\n",
       "2021-10-27     5.033333  2.783333  0.833333  1.416667\n",
       "2021-10-28     8.416667  4.933333  1.333333  2.150000\n",
       "...                 ...       ...       ...       ...\n",
       "2022-01-14     6.666667  4.016667  0.966667  1.683333\n",
       "2022-01-15     8.383333  4.366667  1.300000  2.716667\n",
       "2022-01-16     6.016667  4.100000  0.616667  1.300000\n",
       "2022-01-17     5.116667  3.350000  0.666667  1.100000\n",
       "2022-01-18     6.116667  3.533333  0.633333  1.950000\n",
       "\n",
       "[89 rows x 4 columns]"
      ]
     },
     "execution_count": 105,
     "metadata": {},
     "output_type": "execute_result"
    }
   ],
   "source": [
    "df"
   ]
  },
  {
   "cell_type": "code",
   "execution_count": null,
   "id": "4b331304",
   "metadata": {},
   "outputs": [
    {
     "name": "stdout",
     "output_type": "stream",
     "text": [
      "            total_sleep  weekly_avg\n",
      "date                               \n",
      "2021-10-24     8.750000         NaN\n",
      "2021-10-25     5.683333         NaN\n",
      "2021-10-26     6.933333         NaN\n",
      "2021-10-27     5.033333         NaN\n",
      "2021-10-28     8.416667         NaN\n",
      "...                 ...         ...\n",
      "2022-01-14     6.666667    5.719048\n",
      "2022-01-15     8.383333    5.750000\n",
      "2022-01-16     6.016667    5.914286\n",
      "2022-01-17     5.116667    5.759524\n",
      "2022-01-18     6.116667    5.730952\n",
      "\n",
      "[89 rows x 2 columns]\n"
     ]
    }
   ],
   "source": [
    "# Berekent het gemiddelde aantal uren slaap van de afgelopen 7 dagen\n",
    "# Start wel pas vanaf dag 8\n",
    "weekly_avg = df['total_sleep'].rolling(window=7).mean()\n",
    "df['weekly_avg'] = weekly_avg.shift(1)\n",
    "print(df[['total_sleep','weekly_avg']])"
   ]
  },
  {
   "cell_type": "code",
   "execution_count": 108,
   "id": "f3edeed6",
   "metadata": {},
   "outputs": [
    {
     "name": "stdout",
     "output_type": "stream",
     "text": [
      "            total_sleep     light      deep       rem  weekly_avg\n",
      "date                                                             \n",
      "2021-11-01     7.716667  3.733333  2.066667  1.916667    6.557143\n",
      "2021-11-02     5.916667  2.766667  1.583333  1.566667    6.847619\n",
      "2021-11-03     6.083333  3.650000  0.583333  1.850000    6.702381\n",
      "2021-11-04     4.650000  2.766667  0.683333  1.200000    6.852381\n",
      "2021-11-05     5.733333  3.033333  1.216667  1.483333    6.314286\n",
      "2021-11-06     9.933333  5.383333  1.733333  2.816667    6.809524\n",
      "2021-11-07     5.633333  3.833333  0.666667  1.133333    6.811905\n",
      "2021-11-08     5.816667  3.300000  0.700000  1.816667    6.523810\n",
      "2021-11-09     7.600000  4.766667  0.866667  1.966667    6.252381\n",
      "2021-11-10     5.466667  3.050000  1.100000  1.316667    6.492857\n",
      "2021-11-11     4.950000  2.816667  0.916667  1.216667    6.404762\n",
      "2021-11-12     5.966667  3.500000  0.866667  1.600000    6.447619\n",
      "2021-11-13     9.216667  5.116667  0.983333  3.116667    6.480952\n",
      "2021-11-14     6.000000  3.250000  0.966667  1.783333    6.378571\n",
      "2021-11-15     6.233333  4.183333  0.750000  1.300000    6.430952\n",
      "2021-11-16     6.866667  3.966667  1.150000  1.750000    6.490476\n",
      "2021-11-17     5.750000  3.550000  0.850000  1.350000    6.385714\n",
      "2021-11-18     6.216667  3.933333  1.166667  1.116667    6.426190\n",
      "2021-11-19     6.500000  3.533333  1.350000  1.616667    6.607143\n",
      "2021-11-20     8.116667  5.066667  1.500000  1.550000    6.683333\n",
      "2021-11-21     5.333333  2.966667  1.050000  1.316667    6.526190\n",
      "2021-11-21     5.333333  2.966667  1.050000  1.316667    6.430952\n",
      "2021-11-22     5.400000  3.566667  0.883333  0.950000    6.302381\n",
      "2021-11-23     7.116667  4.200000  1.016667  1.900000    6.092857\n",
      "2021-11-24     5.283333  3.183333  0.733333  1.366667    6.288095\n",
      "2021-11-25     5.250000  2.816667  0.933333  1.500000    6.154762\n",
      "2021-11-26     6.400000  4.116667  0.700000  1.583333    5.976190\n",
      "2021-11-27     7.283333  4.233333  0.716667  2.333333    5.730952\n",
      "2021-11-28     8.566667  4.700000  1.250000  2.616667    6.009524\n",
      "2021-11-29     6.250000  3.566667  1.516667  1.166667    6.471429\n",
      "2021-11-30     7.783333  4.583333  0.900000  2.300000    6.592857\n"
     ]
    }
   ],
   "source": [
    "# Voorbeeld van hoe je een specifieke maand kan selecteren:\n",
    "df_test = df.loc['2021-11']\n",
    "print(df_test)"
   ]
  },
  {
   "cell_type": "code",
   "execution_count": 109,
   "id": "a8b0700a",
   "metadata": {},
   "outputs": [
    {
     "data": {
      "image/png": "[encoded data removed]",
      "text/plain": [
       "<Figure size 640x480 with 1 Axes>"
      ]
     },
     "metadata": {},
     "output_type": "display_data"
    }
   ],
   "source": [
    "# Grafiek van aantal uren slaap van 1 maand\n",
    "plt.figure()\n",
    "plt.plot(df_test.index, df_test['total_sleep'], marker='o', linestyle='-')\n",
    "plt.title(\"Daily Total Sleep Hours\")\n",
    "plt.xlabel(\"Date\")\n",
    "plt.ylabel(\"Hours of Sleep\")\n",
    "plt.xticks(rotation=45)\n",
    "plt.tight_layout()\n",
    "plt.show()"
   ]
  }
 ],
 "metadata": {
  "kernelspec": {
   "display_name": "Python 3",
   "language": "python",
   "name": "python3"
  },
  "language_info": {
   "codemirror_mode": {
    "name": "ipython",
    "version": 3
   },
   "file_extension": ".py",
   "mimetype": "text/x-python",
   "name": "python",
   "nbconvert_exporter": "python",
   "pygments_lexer": "ipython3",
   "version": "3.13.2"
  }
 },
 "nbformat": 4,
 "nbformat_minor": 5
}
