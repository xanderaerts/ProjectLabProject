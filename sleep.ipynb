{
 "cells": [
  {
   "cell_type": "markdown",
   "id": "92a3979a",
   "metadata": {},
   "source": [
    "Test persoon: 621e346f67b776a24081744f"
   ]
  },
  {
   "cell_type": "code",
   "execution_count": 59,
   "id": "c1db236b",
   "metadata": {},
   "outputs": [],
   "source": [
    "from pymongo import MongoClient\n",
    "from bson import ObjectId\n",
    "from datetime import datetime, timedelta\n",
    "import pandas as pd\n",
    "import matplotlib.pyplot as plt"
   ]
  },
  {
   "cell_type": "code",
   "execution_count": null,
   "id": "cfdd1e95",
   "metadata": {},
   "outputs": [],
   "source": [
    "client = MongoClient(\"mongodb://localhost:27017/\")\n",
    "\t\n",
    "db = client[\"lifesnaps\"]\n",
    "collection = db[\"fitbit\"]\n",
    "\n",
    "person = \"621e2f9167b776a240011ccb\"\n",
    "\n",
    "query = {\n",
    "    \"id\": ObjectId(person),\n",
    "    \"type\": \"sleep\"\n",
    "}\n",
    "\n",
    "doc = collection.find(query)\n",
    "for doc in collection.find(query):\n",
    "    print(doc)"
   ]
  },
  {
   "cell_type": "code",
   "execution_count": null,
   "id": "2639a879",
   "metadata": {},
   "outputs": [
    {
     "name": "stdout",
     "output_type": "stream",
     "text": [
      "Sleep in one night: 446 min (7.43 hours)\n"
     ]
    }
   ],
   "source": [
    "# TEST\n",
    "\n",
    "minutes_sleep = doc[\"data\"][\"minutesAsleep\"]\n",
    "hours = minutes_sleep / 60\n",
    "print(f\"Sleep in one night: {minutes_sleep} min ({hours:.2f} hours)\")"
   ]
  },
  {
   "cell_type": "code",
   "execution_count": null,
   "id": "d93cde46",
   "metadata": {},
   "outputs": [
    {
     "ename": "KeyError",
     "evalue": "'deep'",
     "output_type": "error",
     "traceback": [
      "\u001b[0;31m---------------------------------------------------------------------------\u001b[0m",
      "\u001b[0;31mKeyError\u001b[0m                                  Traceback (most recent call last)",
      "Cell \u001b[0;32mIn[55], line 3\u001b[0m\n\u001b[1;32m      1\u001b[0m summary \u001b[38;5;241m=\u001b[39m doc[\u001b[38;5;124m'\u001b[39m\u001b[38;5;124mdata\u001b[39m\u001b[38;5;124m'\u001b[39m][\u001b[38;5;124m'\u001b[39m\u001b[38;5;124mlevels\u001b[39m\u001b[38;5;124m'\u001b[39m][\u001b[38;5;124m'\u001b[39m\u001b[38;5;124msummary\u001b[39m\u001b[38;5;124m'\u001b[39m]\n\u001b[1;32m      2\u001b[0m \u001b[38;5;28;01mfor\u001b[39;00m stage \u001b[38;5;129;01min\u001b[39;00m [\u001b[38;5;124m'\u001b[39m\u001b[38;5;124mdeep\u001b[39m\u001b[38;5;124m'\u001b[39m, \u001b[38;5;124m'\u001b[39m\u001b[38;5;124mlight\u001b[39m\u001b[38;5;124m'\u001b[39m, \u001b[38;5;124m'\u001b[39m\u001b[38;5;124mrem\u001b[39m\u001b[38;5;124m'\u001b[39m]:\n\u001b[0;32m----> 3\u001b[0m     mins \u001b[38;5;241m=\u001b[39m \u001b[43msummary\u001b[49m\u001b[43m[\u001b[49m\u001b[43mstage\u001b[49m\u001b[43m]\u001b[49m[\u001b[38;5;124m'\u001b[39m\u001b[38;5;124mminutes\u001b[39m\u001b[38;5;124m'\u001b[39m]\n\u001b[1;32m      4\u001b[0m     hrs  \u001b[38;5;241m=\u001b[39m mins \u001b[38;5;241m/\u001b[39m \u001b[38;5;241m60\u001b[39m\n\u001b[1;32m      5\u001b[0m     \u001b[38;5;28mprint\u001b[39m(\u001b[38;5;124mf\u001b[39m\u001b[38;5;124m\"\u001b[39m\u001b[38;5;132;01m{\u001b[39;00mstage\u001b[38;5;241m.\u001b[39mcapitalize()\u001b[38;5;132;01m:\u001b[39;00m\u001b[38;5;124m<5\u001b[39m\u001b[38;5;132;01m}\u001b[39;00m\u001b[38;5;124m: \u001b[39m\u001b[38;5;132;01m{\u001b[39;00mmins\u001b[38;5;132;01m}\u001b[39;00m\u001b[38;5;124m min (\u001b[39m\u001b[38;5;132;01m{\u001b[39;00mhrs\u001b[38;5;132;01m:\u001b[39;00m\u001b[38;5;124m.2f\u001b[39m\u001b[38;5;132;01m}\u001b[39;00m\u001b[38;5;124m h)\u001b[39m\u001b[38;5;124m\"\u001b[39m)\n",
      "\u001b[0;31mKeyError\u001b[0m: 'deep'"
     ]
    }
   ],
   "source": [
    "# DIT STUKJE CODE MAG WEG, WAS EEN TEST\n",
    "\n",
    "summary = doc['data']['levels']['summary']\n",
    "for stage in ['deep', 'light', 'rem']:\n",
    "    mins = summary[stage]['minutes']\n",
    "    hrs  = mins / 60\n",
    "    print(f\"{stage.capitalize():<5}: {mins} min ({hrs:.2f} h)\")"
   ]
  },
  {
   "cell_type": "code",
   "execution_count": 65,
   "id": "3db36bfe",
   "metadata": {},
   "outputs": [
    {
     "name": "stdout",
     "output_type": "stream",
     "text": [
      "foutje\n",
      "foutje\n",
      "foutje\n",
      "foutje\n",
      "foutje\n",
      "foutje\n",
      "foutje\n"
     ]
    }
   ],
   "source": [
    "records = []\n",
    "\n",
    "for doc in collection.find(query):\n",
    "    try:\n",
    "        total_sleep = doc[\"data\"][\"minutesAsleep\"]/60\n",
    "        deep = doc[\"data\"][\"levels\"][\"summary\"][\"deep\"][\"minutes\"] / 60\n",
    "        light = doc[\"data\"][\"levels\"][\"summary\"][\"light\"][\"minutes\"] / 60\n",
    "        rem = doc[\"data\"][\"levels\"][\"summary\"][\"rem\"][\"minutes\"] / 60\n",
    "        date = doc[\"data\"][\"dateOfSleep\"]\n",
    "        records.append({\"date:\": date, \"total_sleep\": total_sleep, \"light\": light, \"deep\": deep,\"rem\": rem})\n",
    "        df = pd.DataFrame(records)\n",
    "    except:\n",
    "        print(\"foutje\")"
   ]
  },
  {
   "cell_type": "code",
   "execution_count": 67,
   "id": "6c6816c9",
   "metadata": {},
   "outputs": [
    {
     "data": {
      "text/html": [
       "<div>\n",
       "<style scoped>\n",
       "    .dataframe tbody tr th:only-of-type {\n",
       "        vertical-align: middle;\n",
       "    }\n",
       "\n",
       "    .dataframe tbody tr th {\n",
       "        vertical-align: top;\n",
       "    }\n",
       "\n",
       "    .dataframe thead th {\n",
       "        text-align: right;\n",
       "    }\n",
       "</style>\n",
       "<table border=\"1\" class=\"dataframe\">\n",
       "  <thead>\n",
       "    <tr style=\"text-align: right;\">\n",
       "      <th></th>\n",
       "      <th>date:</th>\n",
       "      <th>total_sleep</th>\n",
       "      <th>light</th>\n",
       "      <th>deep</th>\n",
       "      <th>rem</th>\n",
       "    </tr>\n",
       "  </thead>\n",
       "  <tbody>\n",
       "    <tr>\n",
       "      <th>0</th>\n",
       "      <td>2021-11-18</td>\n",
       "      <td>6.216667</td>\n",
       "      <td>3.933333</td>\n",
       "      <td>1.166667</td>\n",
       "      <td>1.116667</td>\n",
       "    </tr>\n",
       "    <tr>\n",
       "      <th>1</th>\n",
       "      <td>2021-11-12</td>\n",
       "      <td>5.966667</td>\n",
       "      <td>3.500000</td>\n",
       "      <td>0.866667</td>\n",
       "      <td>1.600000</td>\n",
       "    </tr>\n",
       "    <tr>\n",
       "      <th>2</th>\n",
       "      <td>2021-11-03</td>\n",
       "      <td>6.083333</td>\n",
       "      <td>3.650000</td>\n",
       "      <td>0.583333</td>\n",
       "      <td>1.850000</td>\n",
       "    </tr>\n",
       "    <tr>\n",
       "      <th>3</th>\n",
       "      <td>2021-10-27</td>\n",
       "      <td>5.033333</td>\n",
       "      <td>2.783333</td>\n",
       "      <td>0.833333</td>\n",
       "      <td>1.416667</td>\n",
       "    </tr>\n",
       "    <tr>\n",
       "      <th>4</th>\n",
       "      <td>2021-10-24</td>\n",
       "      <td>8.750000</td>\n",
       "      <td>5.666667</td>\n",
       "      <td>1.066667</td>\n",
       "      <td>2.016667</td>\n",
       "    </tr>\n",
       "    <tr>\n",
       "      <th>...</th>\n",
       "      <td>...</td>\n",
       "      <td>...</td>\n",
       "      <td>...</td>\n",
       "      <td>...</td>\n",
       "      <td>...</td>\n",
       "    </tr>\n",
       "    <tr>\n",
       "      <th>84</th>\n",
       "      <td>2022-01-07</td>\n",
       "      <td>6.450000</td>\n",
       "      <td>3.783333</td>\n",
       "      <td>1.000000</td>\n",
       "      <td>1.666667</td>\n",
       "    </tr>\n",
       "    <tr>\n",
       "      <th>85</th>\n",
       "      <td>2022-01-04</td>\n",
       "      <td>8.016667</td>\n",
       "      <td>4.200000</td>\n",
       "      <td>1.766667</td>\n",
       "      <td>2.050000</td>\n",
       "    </tr>\n",
       "    <tr>\n",
       "      <th>86</th>\n",
       "      <td>2021-12-30</td>\n",
       "      <td>6.483333</td>\n",
       "      <td>4.066667</td>\n",
       "      <td>0.616667</td>\n",
       "      <td>1.800000</td>\n",
       "    </tr>\n",
       "    <tr>\n",
       "      <th>87</th>\n",
       "      <td>2021-12-27</td>\n",
       "      <td>7.600000</td>\n",
       "      <td>4.650000</td>\n",
       "      <td>1.283333</td>\n",
       "      <td>1.666667</td>\n",
       "    </tr>\n",
       "    <tr>\n",
       "      <th>88</th>\n",
       "      <td>2021-12-24</td>\n",
       "      <td>7.433333</td>\n",
       "      <td>3.833333</td>\n",
       "      <td>1.500000</td>\n",
       "      <td>2.100000</td>\n",
       "    </tr>\n",
       "  </tbody>\n",
       "</table>\n",
       "<p>89 rows × 5 columns</p>\n",
       "</div>"
      ],
      "text/plain": [
       "         date:  total_sleep     light      deep       rem\n",
       "0   2021-11-18     6.216667  3.933333  1.166667  1.116667\n",
       "1   2021-11-12     5.966667  3.500000  0.866667  1.600000\n",
       "2   2021-11-03     6.083333  3.650000  0.583333  1.850000\n",
       "3   2021-10-27     5.033333  2.783333  0.833333  1.416667\n",
       "4   2021-10-24     8.750000  5.666667  1.066667  2.016667\n",
       "..         ...          ...       ...       ...       ...\n",
       "84  2022-01-07     6.450000  3.783333  1.000000  1.666667\n",
       "85  2022-01-04     8.016667  4.200000  1.766667  2.050000\n",
       "86  2021-12-30     6.483333  4.066667  0.616667  1.800000\n",
       "87  2021-12-27     7.600000  4.650000  1.283333  1.666667\n",
       "88  2021-12-24     7.433333  3.833333  1.500000  2.100000\n",
       "\n",
       "[89 rows x 5 columns]"
      ]
     },
     "execution_count": 67,
     "metadata": {},
     "output_type": "execute_result"
    }
   ],
   "source": [
    "df"
   ]
  },
  {
   "cell_type": "code",
   "execution_count": null,
   "id": "a8b0700a",
   "metadata": {},
   "outputs": [
    {
     "data": {
      "image/png": "[encoded data removed]",
      "text/plain": [
       "<Figure size 640x480 with 1 Axes>"
      ]
     },
     "metadata": {},
     "output_type": "display_data"
    }
   ],
   "source": [
    "df['date'] = pd.to_datetime(df['date:'])\n",
    "df.set_index('date', inplace=True)\n",
    "df = df.sort_index() \n",
    "\n",
    "plt.figure()\n",
    "plt.plot(df.index, df['total_sleep'], marker='o', linestyle='-')\n",
    "plt.title(\"Daily Total Sleep Hours\")\n",
    "plt.xlabel(\"Date\")\n",
    "plt.ylabel(\"Hours of Sleep\")\n",
    "plt.xticks(rotation=45)\n",
    "plt.tight_layout()\n",
    "plt.show()\n"
   ]
  },
  {
   "cell_type": "code",
   "execution_count": null,
   "id": "753331a4",
   "metadata": {},
   "outputs": [],
   "source": [
    "from pymongo import MongoClient\n",
    "from bson import ObjectId\n",
    "import pandas as pd\n",
    "import matplotlib.pyplot as plt\n",
    "from pandas.tseries.offsets import MonthEnd\n",
    "\n",
    "def analyze_monthly_sleep(user_id_str, year, month):\n",
    "    \"\"\"\n",
    "    Connects to MongoDB, fetches all 'sleep' docs for the given user/month,\n",
    "    computes daily sleep hours, prints averages, and plots the routine.\n",
    "    \"\"\"\n",
    "    # ——— Connect & parameterize ———\n",
    "    client = MongoClient(\"mongodb://localhost:27017/\")\n",
    "    db = client[\"lifesnaps\"]\n",
    "    collection = db[\"fitbit\"]\n",
    "\n",
    "    user_id = ObjectId(user_id_str)\n",
    "    start = pd.Timestamp(year, month, 1)\n",
    "    end   = start + MonthEnd(0)\n",
    "\n",
    "    # ——— Query sleep docs for that month ———\n",
    "    cursor = collection.find({\n",
    "        \"id\": user_id,\n",
    "        \"type\": \"sleep\",\n",
    "        \"data.dateOfSleep\": {\n",
    "            \"$gte\": start.strftime(\"%Y-%m-%d\"),\n",
    "            \"$lte\": end.strftime(\"%Y-%m-%d\")\n",
    "        }\n",
    "    })\n",
    "\n",
    "    # ——— Build daily DataFrame ———\n",
    "    records = []\n",
    "    for doc in cursor:\n",
    "        date = pd.to_datetime(doc['data']['dateOfSleep'])\n",
    "        mins = doc['data']['minutesAsleep']\n",
    "        records.append({\"date\": date, \"sleep_hours\": mins / 60})\n",
    "\n",
    "    df = pd.DataFrame(records)\n",
    "    if df.empty:\n",
    "        print(\"No sleep records found for that month.\")\n",
    "        return\n",
    "\n",
    "    df.set_index('date', inplace=True)\n",
    "    df = df.sort_index()\n",
    "\n",
    "    # ——— Show daily values ———\n",
    "    print(\"\\nDaily sleep hours:\")\n",
    "    print(df)\n",
    "\n",
    "    # ——— Compute & print averages ———\n",
    "    monthly_avg = df['sleep_hours'].mean()\n",
    "    print(f\"\\nAverage sleep hours in {start.strftime('%B %Y')}: {monthly_avg:.2f} h\")\n",
    "\n",
    "    weekly_avg = df['sleep_hours'].resample('W').mean()\n",
    "    print(\"\\nWeekly average sleep hours:\")\n",
    "    print(weekly_avg.to_frame(name='sleep_hours'))\n",
    "\n",
    "    # ——— Plot the routine ———\n",
    "    plt.figure()\n",
    "    plt.plot(df.index, df['sleep_hours'])\n",
    "    plt.title(f\"Daily Sleep Hours ({start.strftime('%B %Y')})\")\n",
    "    plt.xlabel(\"Date\")\n",
    "    plt.ylabel(\"Sleep Hours\")\n",
    "    plt.tight_layout()\n",
    "    plt.show()\n",
    "\n",
    "if __name__ == \"__main__\":\n",
    "    # Example usage:\n",
    "    analyze_monthly_sleep(\n",
    "        user_id_str=\"621e346f67b776a24081744f\",  # replace with your user ObjectId\n",
    "        year=2021,\n",
    "        month=6\n",
    "    )\n",
    "    \n",
    "df.head()\n"
   ]
  }
 ],
 "metadata": {
  "kernelspec": {
   "display_name": "Python 3",
   "language": "python",
   "name": "python3"
  },
  "language_info": {
   "codemirror_mode": {
    "name": "ipython",
    "version": 3
   },
   "file_extension": ".py",
   "mimetype": "text/x-python",
   "name": "python",
   "nbconvert_exporter": "python",
   "pygments_lexer": "ipython3",
   "version": "3.13.2"
  }
 },
 "nbformat": 4,
 "nbformat_minor": 5
}
