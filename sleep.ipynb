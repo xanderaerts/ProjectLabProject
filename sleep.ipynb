{
 "cells": [
  {
   "cell_type": "markdown",
   "id": "92a3979a",
   "metadata": {},
   "source": [
    "Test persoon: 621e346f67b776a24081744f"
   ]
  },
  {
   "cell_type": "code",
   "execution_count": null,
   "id": "c1db236b",
   "metadata": {},
   "outputs": [],
   "source": [
    "from pymongo import MongoClient\n",
    "from bson import ObjectId\n",
    "from datetime import datetime, timedelta\n",
    "import pandas as pd\n",
    "import matplotlib.pyplot as plt"
   ]
  },
  {
   "cell_type": "code",
   "execution_count": null,
   "id": "cfdd1e95",
   "metadata": {},
   "outputs": [],
   "source": [
    "client = MongoClient(\"mongodb://localhost:27017/\")\n",
    "\t\n",
    "db = client[\"lifesnaps\"]\n",
    "collection = db[\"fitbit\"]\n",
    "\n",
    "person = \"621e2f9167b776a240011ccb\"\n",
    "\n",
    "query = {\n",
    "    \"id\": ObjectId(person),\n",
    "    \"type\": \"sleep\"\n",
    "}\n",
    "\n",
    "doc = collection.find(query)"
   ]
  },
  {
   "cell_type": "code",
   "execution_count": null,
   "id": "42100f2a",
   "metadata": {},
   "outputs": [],
   "source": [
    "records = []\n",
    "\n",
    "for doc in collection.find(query):\n",
    "    try:\n",
    "        # Totaal aantal slaap in 1 nacht:\n",
    "        total_sleep = doc[\"data\"][\"minutesAsleep\"]/60\n",
    "        # Deep, light en rem slaap in 1 nacht: \n",
    "        deep = doc[\"data\"][\"levels\"][\"summary\"][\"deep\"][\"minutes\"] / 60\n",
    "        light = doc[\"data\"][\"levels\"][\"summary\"][\"light\"][\"minutes\"] / 60\n",
    "        rem = doc[\"data\"][\"levels\"][\"summary\"][\"rem\"][\"minutes\"] / 60\n",
    "        \n",
    "        date = pd.to_datetime(doc[\"data\"][\"dateOfSleep\"])\n",
    "        records.append({\"date\": date, \"total_sleep\": total_sleep, \"light\": light, \"deep\": deep,\"rem\": rem})\n",
    "    except:\n",
    "        print(\"foutje\")\n",
    "    \n",
    "df = pd.DataFrame(records)\n",
    "df.set_index('date', inplace=True)\n",
    "df = df.sort_index()\n"
   ]
  },
  {
   "cell_type": "code",
   "execution_count": null,
   "id": "6c6816c9",
   "metadata": {},
   "outputs": [],
   "source": [
    "df"
   ]
  },
  {
   "cell_type": "code",
   "execution_count": null,
   "id": "4b331304",
   "metadata": {},
   "outputs": [],
   "source": [
    "# Berekent het gemiddelde aantal uren slaap van de afgelopen 7 dagen\n",
    "# Start wel pas vanaf dag 8\n",
    "weekly_avg = df['total_sleep'].rolling(window=7).mean()\n",
    "df['weekly_avg'] = weekly_avg.shift(1)\n",
    "print(df[['total_sleep','weekly_avg']])"
   ]
  },
  {
   "cell_type": "code",
   "execution_count": null,
   "id": "f3edeed6",
   "metadata": {},
   "outputs": [],
   "source": [
    "# Voorbeeld van hoe je een specifieke maand kan selecteren:\n",
    "df_test = df.loc['2021-11']\n",
    "print(df_test)"
   ]
  },
  {
   "cell_type": "code",
   "execution_count": null,
   "id": "a8b0700a",
   "metadata": {},
   "outputs": [],
   "source": [
    "# Grafiek van aantal uren slaap van 1 maand\n",
    "plt.figure()\n",
    "plt.plot(df_test.index, df_test['total_sleep'], marker='o', linestyle='-')\n",
    "plt.title(\"Daily Total Sleep Hours\")\n",
    "plt.xlabel(\"Date\")\n",
    "plt.ylabel(\"Hours of Sleep\")\n",
    "plt.xticks(rotation=45)\n",
    "plt.tight_layout()\n",
    "plt.show()"
   ]
  },
  {
   "cell_type": "code",
   "execution_count": null,
   "id": "b951a9a3",
   "metadata": {},
   "outputs": [],
   "source": [
    "# 1 specifieke dag zoeken: \n",
    "df_day = df.loc['2021-12-15']\n",
    "print(df_day)"
   ]
  },
  {
   "cell_type": "code",
   "execution_count": null,
   "id": "f8f0e0df",
   "metadata": {},
   "outputs": [],
   "source": [
    "df.to_csv(\"csv/Sleep.csv\")"
   ]
  }
 ],
 "metadata": {
  "kernelspec": {
   "display_name": "Python 3",
   "language": "python",
   "name": "python3"
  },
  "language_info": {
   "codemirror_mode": {
    "name": "ipython",
    "version": 3
   },
   "file_extension": ".py",
   "mimetype": "text/x-python",
   "name": "python",
   "nbconvert_exporter": "python",
   "pygments_lexer": "ipython3",
   "version": "3.12.10"
  }
 },
 "nbformat": 4,
 "nbformat_minor": 5
}
