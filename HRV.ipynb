{
 "cells": [
  {
   "cell_type": "code",
   "execution_count": null,
   "id": "c3fe95ce",
   "metadata": {},
   "outputs": [],
   "source": [
    "# Data handling and plotting\n",
    "import pandas as pd\n",
    "import matplotlib.pyplot as plt\n",
    "from datetime import datetime\n",
    "from dateutil import parser  # More robust date parsing\n",
    "\n",
    "# MongoDB\n",
    "from pymongo import MongoClient\n",
    "from bson import ObjectId\n"
   ]
  },
  {
   "cell_type": "code",
   "execution_count": null,
   "id": "52040e34",
   "metadata": {},
   "outputs": [],
   "source": [
    "client = MongoClient(\"mongodb://localhost:27017\")\n",
    "\n",
    "db = client[\"lifesnaps\"] \n",
    "collection = db[\"fitbit\"]\n",
    "\n",
    "userID = ObjectId(\"621e2f9167b776a240011ccb\")"
   ]
  },
  {
   "cell_type": "code",
   "execution_count": null,
   "id": "d568a31c",
   "metadata": {},
   "outputs": [],
   "source": [
    "# Define user ID and query\n",
    "user_id = ObjectId(\"621e2f9167b776a240011ccb\")\n",
    "\n",
    "query = {\n",
    "    \"id\": user_id,\n",
    "    \"type\": \"Daily Heart Rate Variability Summary\"\n",
    "}\n",
    "\n",
    "# Execute query and sort by timestamp\n",
    "cursor = collection.find(query).sort(\"data.timestamp\", 1)\n",
    "docs = list(cursor)\n",
    "\n",
    "print(f\"Aantal documenten gevonden: {len(docs)}\")\n"
   ]
  },
  {
   "cell_type": "code",
   "execution_count": null,
   "id": "92cf5d4f",
   "metadata": {},
   "outputs": [],
   "source": [
    "# Prepare lists to hold the data\n",
    "dates = []\n",
    "rmssd_values = []\n",
    "entropy_values = []\n",
    "\n",
    "# Loop through documents and extract values\n",
    "for doc in docs:\n",
    "    data = doc.get(\"data\", {})\n",
    "    timestamp = data.get(\"timestamp\")\n",
    "    rmssd = data.get(\"rmssd\")\n",
    "    entropy = data.get(\"entropy\")\n",
    "    \n",
    "    # Robust datetime parsing\n",
    "    if timestamp and rmssd is not None and entropy is not None:\n",
    "        if not isinstance(timestamp, datetime):\n",
    "            timestamp = parser.parse(timestamp)\n",
    "        dates.append(timestamp)\n",
    "        rmssd_values.append(rmssd)\n",
    "        entropy_values.append(entropy)\n",
    "\n",
    "# Preview first few entries\n",
    "for i in range(min(5, len(dates))):\n",
    "    print(f\"{i+1}: Date={dates[i]}, RMSSD={rmssd_values[i]}, Entropy={entropy_values[i]}\")\n"
   ]
  },
  {
   "cell_type": "code",
   "execution_count": null,
   "id": "9ba5c14a",
   "metadata": {},
   "outputs": [],
   "source": [
    "# Create DataFrame\n",
    "df = pd.DataFrame({\n",
    "    \"date\": dates,\n",
    "    \"RMSSD\": rmssd_values,\n",
    "    \"Entropy\": entropy_values\n",
    "})\n",
    "\n",
    "# Ensure proper datetime format and sort\n",
    "df[\"date\"] = pd.to_datetime(df[\"date\"])\n",
    "df = df.sort_values(\"date\")\n",
    "\n",
    "# Preview\n",
    "df.head()\n"
   ]
  },
  {
   "cell_type": "code",
   "execution_count": null,
   "id": "f344d34a",
   "metadata": {},
   "outputs": [],
   "source": [
    "# Plot HRV (RMSSD) and Entropy over time\n",
    "fig, (ax1, ax2) = plt.subplots(1, 2, figsize=(14, 5), sharex=True)\n",
    "\n",
    "# HRV (RMSSD)\n",
    "ax1.plot(df[\"date\"], df[\"RMSSD\"], marker='o', color='blue')\n",
    "ax1.set_title(\"HRV (RMSSD) over Tijd\")\n",
    "ax1.set_xlabel(\"Datum\")\n",
    "ax1.set_ylabel(\"RMSSD\")\n",
    "ax1.grid(True)\n",
    "ax1.tick_params(axis='x', rotation=45)\n",
    "\n",
    "# Entropy\n",
    "ax2.plot(df[\"date\"], df[\"Entropy\"], marker='x', color='orange')\n",
    "ax2.set_title(\"Entropy over Tijd\")\n",
    "ax2.set_xlabel(\"Datum\")\n",
    "ax2.set_ylabel(\"Entropy\")\n",
    "ax2.grid(True)\n",
    "ax2.tick_params(axis='x', rotation=45)\n",
    "\n",
    "plt.tight_layout()\n",
    "plt.show()\n"
   ]
  },
  {
   "cell_type": "code",
   "execution_count": null,
   "id": "3f8159a2",
   "metadata": {},
   "outputs": [],
   "source": [
    "\n",
    "# Save to file if needed\n",
    "df.to_csv(\"csv/HRV.csv\", index=False)\n",
    "\n"
   ]
  },
  {
   "cell_type": "markdown",
   "id": "c144639e",
   "metadata": {},
   "source": [
    "\n",
    "Hartslagvariabiliteit (HRV) is de variatie in tijd tussen opeenvolgende hartslagen. \n",
    "Het is een belangrijke indicator van de activiteit en balans van het autonome zenuwstelsel. \n",
    "Een hogere HRV betekent dat je lichaam beter kan reageren op stress en veranderingen, en wordt vaak geassocieerd met een goede gezondheid en herstel.\n",
    "\n",
    "Entropie is een maat voor de complexiteit en onvoorspelbaarheid van je hartslagpatroon. \n",
    "Een hoge entropie betekent dat je hartslag meer variatie en complexiteit heeft, wat meestal wijst op een gezond en veerkrachtig zenuwstelsel.\n",
    "Een lage entropie betekent een voorspelbaarder patroon, wat kan duiden op stress, vermoeidheid of een minder flexibel zenuwstelsel.\n",
    "\n",
    "Samengevat:\n",
    "- HRV hoog + Entropie hoog = Gezonde, flexibele hartslagregulatie\n",
    "- HRV laag + Entropie laag = Mogelijke stress of vermoeidheid"
   ]
  },
  {
   "cell_type": "code",
   "execution_count": null,
   "id": "b95ed72d",
   "metadata": {},
   "outputs": [],
   "source": []
  }
 ],
 "metadata": {
  "kernelspec": {
   "display_name": "Python 3",
   "language": "python",
   "name": "python3"
  },
  "language_info": {
   "codemirror_mode": {
    "name": "ipython",
    "version": 3
   },
   "file_extension": ".py",
   "mimetype": "text/x-python",
   "name": "python",
   "nbconvert_exporter": "python",
   "pygments_lexer": "ipython3",
   "version": "3.13.2"
  }
 },
 "nbformat": 4,
 "nbformat_minor": 5
}
