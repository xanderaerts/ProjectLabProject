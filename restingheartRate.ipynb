{
 "cells": [
  {
   "cell_type": "code",
   "execution_count": null,
   "id": "d9f83553",
   "metadata": {},
   "outputs": [],
   "source": [
    "from pymongo import MongoClient\n",
    "from bson import ObjectId\n",
    "import pandas as pd\n",
    "from datetime import datetime as datetime\n",
    "import matplotlib.pyplot as plt\n",
    "\n",
    "client = MongoClient(\"mongodb://localhost:27017\")\n",
    "\n",
    "db = client[\"lifesnaps\"] \n",
    "collection = db[\"fitbit\"]\n",
    "\n",
    "userID = ObjectId(\"621e2f9167b776a240011ccb\")\n",
    "\n",
    "\n"
   ]
  },
  {
   "cell_type": "code",
   "execution_count": null,
   "id": "a79dfc80",
   "metadata": {},
   "outputs": [],
   "source": [
    "qry = {\n",
    "    \"id\": ObjectId(\"621e2f9167b776a240011ccb\"),\n",
    "    \"type\": \"resting_heart_rate\",\n",
    "    }\n",
    "  \n",
    "projection = {\n",
    "    \"id\":1, \n",
    "    \"data.dateTime\": 1, \n",
    "    \"data.value.value\": 1, \n",
    "    \"data.value.error\":1, \n",
    "    \"_id\":0\n",
    "    }\n",
    "\n",
    "rawDocs = list(collection.find(qry,projection))"
   ]
  },
  {
   "cell_type": "code",
   "execution_count": null,
   "id": "9b4ad59e",
   "metadata": {},
   "outputs": [],
   "source": [
    "# Convert to DataFrame\n",
    "flatDocs = []\n",
    "for doc in rawDocs:\n",
    "    data = doc.get(\"data\",{})\n",
    "    value = data.get(\"value\",{})\n",
    "    \n",
    " # confidence van 0 niet inbegrepen -> te onzeker\n",
    "    flatDocs.append({\n",
    "        \"dateTime\": data[\"dateTime\"],\n",
    "        \"restingHeartRate\": value[\"value\"],\n",
    "        \"errorRHR\": value[\"error\"],\n",
    "    })\n",
    "\n",
    "\n",
    "df_RHR = pd.DataFrame(flatDocs)\n",
    "df_RHR[\"dateTime\"] = pd.to_datetime(df_RHR[\"dateTime\"], errors='coerce')\n",
    "df_RHR[\"restingHeartRate\"] = pd.to_numeric(df_RHR[\"restingHeartRate\"], errors='coerce')\n",
    "df_RHR[\"errorRHR\"] = pd.to_numeric(df_RHR[\"errorRHR\"], errors='coerce')\n",
    "df_RHR = df_RHR.sort_values(by='dateTime', ascending=True)\n",
    "df_RHR.head(70)\n",
    "\n"
   ]
  },
  {
   "cell_type": "code",
   "execution_count": null,
   "id": "fdb27a78",
   "metadata": {},
   "outputs": [],
   "source": [
    "(df_RHR == 0).describe()"
   ]
  },
  {
   "cell_type": "code",
   "execution_count": null,
   "id": "f60d08f3",
   "metadata": {},
   "outputs": [],
   "source": [
    "(df_RHR == 0).sum() # 4x 0-waarden\n",
    "\n",
    "upper = df_RHR[\"restingHeartRate\"] + df_RHR[\"errorRHR\"]\n",
    "lower = df_RHR[\"restingHeartRate\"] - df_RHR[\"errorRHR\"]\n",
    "\n",
    "plt.plot(df_RHR[\"dateTime\"], df_RHR[\"restingHeartRate\"], label=\"restingHeartRate\")\n",
    "plt.fill_between(df_RHR[\"dateTime\"], lower, upper, color='tab:purple', alpha=0.2, label=\"± error\")\n",
    "plt.legend()"
   ]
  },
  {
   "cell_type": "code",
   "execution_count": null,
   "id": "6e6bac77",
   "metadata": {},
   "outputs": [],
   "source": [
    "df_RHR.rename(columns={'dateTime': 'date'}, inplace=True)\n",
    "df_RHR.to_csv('csv/resting_heart_rate.csv',index=False)\n",
    "\n",
    "df_RHR\n"
   ]
  }
 ],
 "metadata": {
  "kernelspec": {
   "display_name": ".venv",
   "language": "python",
   "name": "python3"
  },
  "language_info": {
   "codemirror_mode": {
    "name": "ipython",
    "version": 3
   },
   "file_extension": ".py",
   "mimetype": "text/x-python",
   "name": "python",
   "nbconvert_exporter": "python",
   "pygments_lexer": "ipython3",
   "version": "3.13.3"
  }
 },
 "nbformat": 4,
 "nbformat_minor": 5
}
