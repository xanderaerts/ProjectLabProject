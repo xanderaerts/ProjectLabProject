{
 "cells": [
  {
   "cell_type": "markdown",
   "id": "13ab74f5",
   "metadata": {},
   "source": [
    "# Get data from the Sema dataset"
   ]
  },
  {
   "cell_type": "code",
   "execution_count": 2,
   "id": "07933b25",
   "metadata": {},
   "outputs": [],
   "source": [
    "from pymongo import MongoClient\n",
    "from bson import ObjectId\n",
    "import pandas as pd"
   ]
  },
  {
   "cell_type": "code",
   "execution_count": 3,
   "id": "ce05ccd2",
   "metadata": {},
   "outputs": [
    {
     "name": "stdout",
     "output_type": "stream",
     "text": [
      "None\n"
     ]
    }
   ],
   "source": [
    "client = MongoClient(\"mongodb://localhost:27017\")\n",
    "\n",
    "db = client[\"lifesnaps\"]\n",
    "collection = db[\"sema\"]\n",
    "\n",
    "doc = collection.find_one({'data':\"place\"})\n",
    "print(doc)  "
   ]
  },
  {
   "cell_type": "code",
   "execution_count": 4,
   "id": "3e3c595a",
   "metadata": {},
   "outputs": [],
   "source": [
    "from datetime import datetime, timedelta\n",
    "date_to_filter = datetime(2021, 11, 16)\n",
    "next_day = date_to_filter + timedelta(days=1)\n",
    "query = {\n",
    "    \"user_id\": ObjectId(\"621e2f9167b776a240011ccb\"),\n",
    "    \"data.SURVEY_NAME\": 'Context and Mood Survey',\n",
    "    \"data.CREATED_TS\": {\n",
    "        \"$gte\": date_to_filter,\n",
    "        \"$lt\": next_day}\n",
    "}"
   ]
  },
  {
   "cell_type": "code",
   "execution_count": 5,
   "id": "8e4b30ba",
   "metadata": {},
   "outputs": [],
   "source": [
    "docs = collection.find(query,{'user_id':1,'data.SCHEDULED_TS':1,'data.MOOD':1})\n",
    "\n",
    "for doc in docs:\n",
    "    print(doc)"
   ]
  },
  {
   "cell_type": "code",
   "execution_count": 11,
   "id": "f22571b4",
   "metadata": {},
   "outputs": [
    {
     "name": "stdout",
     "output_type": "stream",
     "text": [
      "Aantal documenten gevonden: 0\n"
     ]
    }
   ],
   "source": [
    "# Lijst met meerdere ObjectIds\n",
    "user_ids = [\n",
    "    ObjectId('621e2e8e67b776a24055b564'),\n",
    "    ObjectId('621e2eaf67b776a2406b14ac'),\n",
    "    ObjectId('621e2ed667b776a24085d8d1'),\n",
    "    ObjectId('621e2ef567b776a24099f889'),\n",
    "    ObjectId('621e2efa67b776a2409dd1c3'),\n",
    "    ObjectId('621e2f1b67b776a240b3d87c'),\n",
    "    ObjectId('621e2f3967b776a240c654db'),\n",
    "    ObjectId('621e2f5767b776a240d8f9d6'),\n",
    "    ObjectId('621e2f6167b776a240e082a9'),\n",
    "    ObjectId('621e2f7a67b776a240f14425'),\n",
    "    ObjectId(\"621e2f9167b776a240011ccb\")\n",
    "]\n",
    "\n",
    "\n",
    "query = {\n",
    "    \"user_id\": {\"$in\": user_ids},\n",
    "    \"data.SURVEY_NAME\": 'Context and Mood Survey',\n",
    "}\n",
    "print(f\"Aantal documenten gevonden: {len(df)}\")\n"
   ]
  },
  {
   "cell_type": "code",
   "execution_count": 10,
   "id": "4bdcdc1e",
   "metadata": {},
   "outputs": [
    {
     "name": "stdout",
     "output_type": "stream",
     "text": [
      "Empty DataFrame\n",
      "Columns: []\n",
      "Index: []\n"
     ]
    },
    {
     "ename": "KeyError",
     "evalue": "'data'",
     "output_type": "error",
     "traceback": [
      "\u001b[31m---------------------------------------------------------------------------\u001b[39m",
      "\u001b[31mKeyError\u001b[39m                                  Traceback (most recent call last)",
      "\u001b[36mCell\u001b[39m\u001b[36m \u001b[39m\u001b[32mIn[10]\u001b[39m\u001b[32m, line 7\u001b[39m\n\u001b[32m      5\u001b[39m \u001b[38;5;28mprint\u001b[39m(df)\n\u001b[32m      6\u001b[39m \u001b[38;5;66;03m# 'data'-kolom is al een dict → direct normaliseren\u001b[39;00m\n\u001b[32m----> \u001b[39m\u001b[32m7\u001b[39m data_expanded = pd.json_normalize(\u001b[43mdf\u001b[49m\u001b[43m[\u001b[49m\u001b[33;43m\"\u001b[39;49m\u001b[33;43mdata\u001b[39;49m\u001b[33;43m\"\u001b[39;49m\u001b[43m]\u001b[49m)\n\u001b[32m      9\u001b[39m \u001b[38;5;66;03m# Combineer met originele ID-kolommen\u001b[39;00m\n\u001b[32m     10\u001b[39m df = pd.concat([df[[\u001b[33m\"\u001b[39m\u001b[33m_id\u001b[39m\u001b[33m\"\u001b[39m, \u001b[33m\"\u001b[39m\u001b[33muser_id\u001b[39m\u001b[33m\"\u001b[39m]], data_expanded], axis=\u001b[32m1\u001b[39m)\n",
      "\u001b[36mFile \u001b[39m\u001b[32m~/Documents/projects/PL/ProjectLabProject/.venv/lib/python3.13/site-packages/pandas/core/frame.py:4102\u001b[39m, in \u001b[36mDataFrame.__getitem__\u001b[39m\u001b[34m(self, key)\u001b[39m\n\u001b[32m   4100\u001b[39m \u001b[38;5;28;01mif\u001b[39;00m \u001b[38;5;28mself\u001b[39m.columns.nlevels > \u001b[32m1\u001b[39m:\n\u001b[32m   4101\u001b[39m     \u001b[38;5;28;01mreturn\u001b[39;00m \u001b[38;5;28mself\u001b[39m._getitem_multilevel(key)\n\u001b[32m-> \u001b[39m\u001b[32m4102\u001b[39m indexer = \u001b[38;5;28;43mself\u001b[39;49m\u001b[43m.\u001b[49m\u001b[43mcolumns\u001b[49m\u001b[43m.\u001b[49m\u001b[43mget_loc\u001b[49m\u001b[43m(\u001b[49m\u001b[43mkey\u001b[49m\u001b[43m)\u001b[49m\n\u001b[32m   4103\u001b[39m \u001b[38;5;28;01mif\u001b[39;00m is_integer(indexer):\n\u001b[32m   4104\u001b[39m     indexer = [indexer]\n",
      "\u001b[36mFile \u001b[39m\u001b[32m~/Documents/projects/PL/ProjectLabProject/.venv/lib/python3.13/site-packages/pandas/core/indexes/range.py:417\u001b[39m, in \u001b[36mRangeIndex.get_loc\u001b[39m\u001b[34m(self, key)\u001b[39m\n\u001b[32m    415\u001b[39m         \u001b[38;5;28;01mraise\u001b[39;00m \u001b[38;5;167;01mKeyError\u001b[39;00m(key) \u001b[38;5;28;01mfrom\u001b[39;00m\u001b[38;5;250m \u001b[39m\u001b[34;01merr\u001b[39;00m\n\u001b[32m    416\u001b[39m \u001b[38;5;28;01mif\u001b[39;00m \u001b[38;5;28misinstance\u001b[39m(key, Hashable):\n\u001b[32m--> \u001b[39m\u001b[32m417\u001b[39m     \u001b[38;5;28;01mraise\u001b[39;00m \u001b[38;5;167;01mKeyError\u001b[39;00m(key)\n\u001b[32m    418\u001b[39m \u001b[38;5;28mself\u001b[39m._check_indexing_error(key)\n\u001b[32m    419\u001b[39m \u001b[38;5;28;01mraise\u001b[39;00m \u001b[38;5;167;01mKeyError\u001b[39;00m(key)\n",
      "\u001b[31mKeyError\u001b[39m: 'data'"
     ]
    }
   ],
   "source": [
    "import pandas as pd\n",
    "\n",
    "# Data ophalen uit MongoDB (query moet eerder gedefinieerd zijn)\n",
    "df = pd.DataFrame(list(collection.find(query)))\n",
    "print(df)\n",
    "# 'data'-kolom is al een dict → direct normaliseren\n",
    "data_expanded = pd.json_normalize(df[\"data\"])\n",
    "\n",
    "# Combineer met originele ID-kolommen\n",
    "df = pd.concat([df[[\"_id\", \"user_id\"]], data_expanded], axis=1)\n",
    "\n",
    "# Exporteren naar CSV\n",
    "df.to_csv('semaSurvey.csv', index=False)\n",
    "\n",
    "# Bekijk de eerste paar rijen\n",
    "df.head()"
   ]
  },
  {
   "cell_type": "markdown",
   "id": "b04f4c1e",
   "metadata": {},
   "source": [
    "# Data selection \n",
    "only select moods and give them a score for each day"
   ]
  },
  {
   "cell_type": "code",
   "execution_count": null,
   "id": "c2786e6c",
   "metadata": {},
   "outputs": [],
   "source": [
    "data = df[['CREATED_TS','MOOD']]\n",
    "data\n",
    "\n",
    "mood_map = {\n",
    "    '<no-response>': None,\n",
    "    'ALERT': 1,\n",
    "    'ANGER': -1,\n",
    "    'FEAR': -1,\n",
    "    'HAPPY': 1,\n",
    "    'JOY': 1,\n",
    "    'NEUTRAL': 0,\n",
    "    'RESTED/RELAXED': 1,\n",
    "    'SAD': -1,\n",
    "    'SADNESS': -1,\n",
    "    'SURPRISE': 0,\n",
    "    'TENSE/ANXIOUS': -1,\n",
    "    'TIRED': -1,\n",
    "    None: None  # voor echte null-waarden\n",
    "}\n",
    "\n",
    "data['mood_score'] = data['MOOD'].map(mood_map)"
   ]
  },
  {
   "cell_type": "code",
   "execution_count": null,
   "id": "6c381c9b",
   "metadata": {},
   "outputs": [],
   "source": [
    "data[\"CREATED_TS\"] = pd.to_datetime(data[\"CREATED_TS\"])\n",
    "# Voeg een kolom toe voor de datum (zonder tijd)\n",
    "data[\"date\"] = data[\"CREATED_TS\"].dt.date\n",
    "\n",
    "\n",
    "# Groepeer op datum en sommeer de mood scores\n",
    "daily_scores = data.groupby(\"date\")[\"mood_score\"].sum().reset_index()\n",
    "\n",
    "daily_scores"
   ]
  },
  {
   "cell_type": "code",
   "execution_count": null,
   "id": "b9b2d8d1",
   "metadata": {},
   "outputs": [],
   "source": [
    "daily_scores.to_csv(\"csv/Mood.csv\",index=False)"
   ]
  },
  {
   "cell_type": "code",
   "execution_count": null,
   "id": "0056b3dd",
   "metadata": {},
   "outputs": [],
   "source": [
    "import matplotlib.pyplot as plt\n",
    "\n",
    "# Zorg dat de datums in goede volgorde staan\n",
    "daily_scores = daily_scores.sort_values(\"DATE\")\n",
    "\n",
    "# Plot de som van de MOOD scores per dag\n",
    "plt.figure(figsize=(12, 6))\n",
    "plt.plot(daily_scores[\"DATE\"], daily_scores[\"MOOD_Score\"], marker='o', linestyle='-', color='purple')\n",
    "plt.title(\"Mood Score per Dag (Som van Scores)\")\n",
    "plt.xlabel(\"Datum\")\n",
    "plt.ylabel(\"Mood Score\")\n",
    "plt.xticks(rotation=45)\n",
    "plt.grid(True)\n",
    "plt.tight_layout()\n",
    "plt.show()\n"
   ]
  },
  {
   "cell_type": "code",
   "execution_count": null,
   "id": "6c19e614",
   "metadata": {},
   "outputs": [],
   "source": []
  }
 ],
 "metadata": {
  "kernelspec": {
   "display_name": ".venv",
   "language": "python",
   "name": "python3"
  },
  "language_info": {
   "codemirror_mode": {
    "name": "ipython",
    "version": 3
   },
   "file_extension": ".py",
   "mimetype": "text/x-python",
   "name": "python",
   "nbconvert_exporter": "python",
   "pygments_lexer": "ipython3",
   "version": "3.13.3"
  }
 },
 "nbformat": 4,
 "nbformat_minor": 5
}
