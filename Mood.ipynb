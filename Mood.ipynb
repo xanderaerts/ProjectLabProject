{
 "cells": [
  {
   "cell_type": "markdown",
   "id": "13ab74f5",
   "metadata": {},
   "source": [
    "# Get data from the Sema dataset"
   ]
  },
  {
   "cell_type": "code",
   "execution_count": null,
   "id": "07933b25",
   "metadata": {},
   "outputs": [],
   "source": [
    "from pymongo import MongoClient\n",
    "from bson import ObjectId\n",
    "import pandas as pd"
   ]
  },
  {
   "cell_type": "code",
   "execution_count": null,
   "id": "ce05ccd2",
   "metadata": {},
   "outputs": [],
   "source": [
    "client = MongoClient(\"mongodb://localhost:27017\")\n",
    "\n",
    "db = client[\"lifesnaps\"]\n",
    "collection = db[\"sema\"]\n",
    "\n",
    "doc = collection.find_one({'data':\"place\"})\n",
    "print(doc)  "
   ]
  },
  {
   "cell_type": "code",
   "execution_count": null,
   "id": "3e3c595a",
   "metadata": {},
   "outputs": [],
   "source": [
    "from datetime import datetime, timedelta\n",
    "date_to_filter = datetime(2021, 11, 16)\n",
    "next_day = date_to_filter + timedelta(days=1)\n",
    "query = {\n",
    "    \"user_id\": ObjectId(\"621e2f9167b776a240011ccb\"),\n",
    "    \"data.SURVEY_NAME\": 'Context and Mood Survey',\n",
    "    \"data.CREATED_TS\": {\n",
    "        \"$gte\": date_to_filter,\n",
    "        \"$lt\": next_day}\n",
    "}"
   ]
  },
  {
   "cell_type": "code",
   "execution_count": null,
   "id": "8e4b30ba",
   "metadata": {},
   "outputs": [],
   "source": [
    "docs = collection.find(query,{'user_id':1,'data.SCHEDULED_TS':1,'data.MOOD':1})\n",
    "\n",
    "for doc in docs:\n",
    "    print(doc)"
   ]
  },
  {
   "cell_type": "code",
   "execution_count": null,
   "id": "f22571b4",
   "metadata": {},
   "outputs": [],
   "source": [
    "query = {\n",
    "    \"user_id\": ObjectId(\"621e2f9167b776a240011ccb\"),\n",
    "    \"data.SURVEY_NAME\": 'Context and Mood Survey',\n",
    "}"
   ]
  },
  {
   "cell_type": "code",
   "execution_count": null,
   "id": "4bdcdc1e",
   "metadata": {},
   "outputs": [],
   "source": [
    "import pandas as pd\n",
    "\n",
    "# Data ophalen uit MongoDB (query moet eerder gedefinieerd zijn)\n",
    "df = pd.DataFrame(list(collection.find(query)))\n",
    "\n",
    "# 'data'-kolom is al een dict → direct normaliseren\n",
    "data_expanded = pd.json_normalize(df[\"data\"])\n",
    "\n",
    "# Combineer met originele ID-kolommen\n",
    "df = pd.concat([df[[\"_id\", \"user_id\"]], data_expanded], axis=1)\n",
    "\n",
    "# Exporteren naar CSV\n",
    "df.to_csv('semaSurvey.csv', index=False)\n",
    "\n",
    "# Bekijk de eerste paar rijen\n",
    "df.head()"
   ]
  },
  {
   "cell_type": "markdown",
   "id": "b04f4c1e",
   "metadata": {},
   "source": [
    "# Data selection \n",
    "only select moods and give them a score for each day"
   ]
  },
  {
   "cell_type": "code",
   "execution_count": null,
   "id": "c2786e6c",
   "metadata": {},
   "outputs": [],
   "source": [
    "data = df[['CREATED_TS','MOOD']]\n",
    "data\n",
    "\n",
    "mood_map = {\n",
    "    '<no-response>': None,\n",
    "    'ALERT': 1,\n",
    "    'ANGER': -1,\n",
    "    'FEAR': -1,\n",
    "    'HAPPY': 1,\n",
    "    'JOY': 1,\n",
    "    'NEUTRAL': 0,\n",
    "    'RESTED/RELAXED': 1,\n",
    "    'SAD': -1,\n",
    "    'SADNESS': -1,\n",
    "    'SURPRISE': 0,\n",
    "    'TENSE/ANXIOUS': -1,\n",
    "    'TIRED': -1,\n",
    "    None: None  # voor echte null-waarden\n",
    "}\n",
    "\n",
    "data['mood_score'] = data['MOOD'].map(mood_map)"
   ]
  },
  {
   "cell_type": "code",
   "execution_count": null,
   "id": "6c381c9b",
   "metadata": {},
   "outputs": [],
   "source": [
    "data[\"CREATED_TS\"] = pd.to_datetime(data[\"CREATED_TS\"])\n",
    "# Voeg een kolom toe voor de datum (zonder tijd)\n",
    "data[\"date\"] = data[\"CREATED_TS\"].dt.date\n",
    "\n",
    "\n",
    "# Groepeer op datum en sommeer de mood scores\n",
    "daily_scores = data.groupby(\"date\")[\"mood_score\"].sum().reset_index()\n",
    "\n",
    "daily_scores"
   ]
  },
  {
   "cell_type": "code",
   "execution_count": null,
   "id": "b9b2d8d1",
   "metadata": {},
   "outputs": [],
   "source": [
    "daily_scores.to_csv(\"csv/Mood.csv\",index=False)"
   ]
  },
  {
   "cell_type": "code",
   "execution_count": null,
   "id": "0056b3dd",
   "metadata": {},
   "outputs": [],
   "source": [
    "import matplotlib.pyplot as plt\n",
    "\n",
    "# Zorg dat de datums in goede volgorde staan\n",
    "daily_scores = daily_scores.sort_values(\"DATE\")\n",
    "\n",
    "# Plot de som van de MOOD scores per dag\n",
    "plt.figure(figsize=(12, 6))\n",
    "plt.plot(daily_scores[\"DATE\"], daily_scores[\"MOOD_Score\"], marker='o', linestyle='-', color='purple')\n",
    "plt.title(\"Mood Score per Dag (Som van Scores)\")\n",
    "plt.xlabel(\"Datum\")\n",
    "plt.ylabel(\"Mood Score\")\n",
    "plt.xticks(rotation=45)\n",
    "plt.grid(True)\n",
    "plt.tight_layout()\n",
    "plt.show()\n"
   ]
  },
  {
   "cell_type": "code",
   "execution_count": null,
   "id": "6c19e614",
   "metadata": {},
   "outputs": [],
   "source": []
  }
 ],
 "metadata": {
  "kernelspec": {
   "display_name": "Python 3",
   "language": "python",
   "name": "python3"
  },
  "language_info": {
   "codemirror_mode": {
    "name": "ipython",
    "version": 3
   },
   "file_extension": ".py",
   "mimetype": "text/x-python",
   "name": "python",
   "nbconvert_exporter": "python",
   "pygments_lexer": "ipython3",
   "version": "3.12.10"
  }
 },
 "nbformat": 4,
 "nbformat_minor": 5
}
