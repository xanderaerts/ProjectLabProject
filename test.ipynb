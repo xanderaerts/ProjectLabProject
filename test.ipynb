{
 "cells": [
  {
   "cell_type": "code",
   "execution_count": null,
   "metadata": {},
   "outputs": [],
   "source": [
    "! pip install pymongo"
   ]
  },
  {
   "cell_type": "code",
   "execution_count": null,
   "metadata": {},
   "outputs": [],
   "source": [
    "from pymongo import MongoClient\n",
    "\n",
    "client = MongoClient(\"mongodb://localhost:27017\")\n",
    "\n",
    "db = client[\"lifesnaps\"]\n",
    "collection = db[\"fitbit\"]\n",
    "\n",
    "doc = collection.find_one({\"type\":\"estimated_oxygen_variation\"})\n",
    "print(doc)  "
   ]
  },
  {
   "cell_type": "code",
   "execution_count": null,
   "metadata": {},
   "outputs": [],
   "source": [
    "from pymongo import MongoClient\n",
    "\n",
    "client = MongoClient(\"mongodb://localhost:27017\")\n",
    "\n",
    "db = client[\"lifesnaps\"]\n",
    "collection = db[\"fitbit\"]\n",
    "\n",
    "doc = collection.find_one({\"type\":\"estimated_oxygen_variation\"})\n",
    "print(doc)"
   ]
  },
  {
   "cell_type": "code",
   "execution_count": null,
   "metadata": {},
   "outputs": [],
   "source": [
    "from bson import ObjectId\n",
    "query = {\n",
    "\t\n",
    "    \"id\": ObjectId(\"621e2e8e67b776a24055b564\"),\n",
    "    \"type\": \"heart_rate\",\n",
    "    \"data.value.bpm\": {\"$gt\":70}\n",
    "\t\n",
    "}\n",
    "docs = collection.find(query).limit(10)\n",
    "\n",
    "for doc in docs:\n",
    "    print(doc)\n"
   ]
  },
  {
   "cell_type": "code",
   "execution_count": null,
   "metadata": {},
   "outputs": [],
   "source": [
    "import pandas as pd \n",
    "\n",
    "df = pd.DataFrame(list(collection.find(query).limit(50)))\n",
    "df.head()"
   ]
  },
  {
   "cell_type": "code",
   "execution_count": null,
   "metadata": {},
   "outputs": [],
   "source": [
    "from pymongo import MongoClient\n",
    "\n",
    "client = MongoClient(\"mongodb://localhost:27017\")\n",
    "\n",
    "query = {\n",
    "    \"type\": \"heart_rate\",\n",
    "    \"data.value.bpm\" : {\"$max\"}\n",
    "}\n",
    "\n",
    "\n",
    "db = client[\"lifesnaps\"]\n",
    "collection = db[\"fitbit\"]\n",
    "\n",
    "print(collection.distinct(\"id\"))\n",
    "\n",
    "\n",
    "collection.find(query)\n"
   ]
  }
 ],
 "metadata": {
  "kernelspec": {
   "display_name": "Python 3",
   "language": "python",
   "name": "python3"
  },
  "language_info": {
   "codemirror_mode": {
    "name": "ipython",
    "version": 3
   },
   "file_extension": ".py",
   "mimetype": "text/x-python",
   "name": "python",
   "nbconvert_exporter": "python",
   "pygments_lexer": "ipython3",
   "version": "3.12.10"
  }
 },
 "nbformat": 4,
 "nbformat_minor": 2
}
