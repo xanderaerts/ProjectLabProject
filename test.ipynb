{
 "cells": [
  {
   "cell_type": "code",
   "execution_count": 1,
   "metadata": {},
   "outputs": [
    {
     "name": "stdout",
     "output_type": "stream",
     "text": [
      "Defaulting to user installation because normal site-packages is not writeable\n",
      "Collecting pymongo\n",
      "  Downloading pymongo-4.12.1-cp312-cp312-win_amd64.whl.metadata (22 kB)\n",
      "Collecting dnspython<3.0.0,>=1.16.0 (from pymongo)\n",
      "  Downloading dnspython-2.7.0-py3-none-any.whl.metadata (5.8 kB)\n",
      "Downloading pymongo-4.12.1-cp312-cp312-win_amd64.whl (897 kB)\n",
      "   ---------------------------------------- 0.0/897.8 kB ? eta -:--:--\n",
      "   --------------------------------------- 897.8/897.8 kB 13.5 MB/s eta 0:00:00\n",
      "Downloading dnspython-2.7.0-py3-none-any.whl (313 kB)\n",
      "Installing collected packages: dnspython, pymongo\n",
      "Successfully installed dnspython-2.7.0 pymongo-4.12.1\n"
     ]
    },
    {
     "name": "stderr",
     "output_type": "stream",
     "text": [
      "\n",
      "[notice] A new release of pip is available: 25.0.1 -> 25.1.1\n",
      "[notice] To update, run: C:\\Users\\xande\\AppData\\Local\\Microsoft\\WindowsApps\\PythonSoftwareFoundation.Python.3.12_qbz5n2kfra8p0\\python.exe -m pip install --upgrade pip\n"
     ]
    }
   ],
   "source": [
    "! pip install pymongo"
   ]
  },
  {
   "cell_type": "code",
   "execution_count": null,
   "metadata": {},
   "outputs": [
    {
     "name": "stdout",
     "output_type": "stream",
     "text": [
      "{'_id': ObjectId('62cc1f9ab41dcd4b1beae820'), 'id': ObjectId('621e2e8e67b776a24055b564'), 'type': 'estimated_oxygen_variation', 'data': {'timestamp': '05/24/21 01:03:30', 'Infrared to Red Signal Ratio': -4}}\n"
     ]
    }
   ],
   "source": [
    "from pymongo import MongoClient\n",
    "\n",
    "client = MongoClient(\"mongodb://localhost:27017\")\n",
    "\n",
    "db = client[\"lifesnaps\"]\n",
    "collection = db[\"fitbit\"]\n",
    "\n",
    "doc = collection.find_one({\"type\":\"estimated_oxygen_variation\"})\n",
    "print(doc)  "
   ]
  },
  {
   "cell_type": "code",
   "execution_count": 10,
   "metadata": {},
   "outputs": [
    {
     "name": "stdout",
     "output_type": "stream",
     "text": [
      "{'_id': ObjectId('62cc1f9ab41dcd4b1beae820'), 'id': ObjectId('621e2e8e67b776a24055b564'), 'type': 'estimated_oxygen_variation', 'data': {'timestamp': '05/24/21 01:03:30', 'Infrared to Red Signal Ratio': -4}}\n"
     ]
    }
   ],
   "source": [
    "from pymongo import MongoClient\n",
    "\n",
    "client = MongoClient(\"mongodb://localhost:27017\")\n",
    "\n",
    "db = client[\"lifesnaps\"]\n",
    "collection = db[\"fitbit\"]\n",
    "\n",
    "doc = collection.find_one({\"type\":\"estimated_oxygen_variation\"})\n",
    "print(doc)"
   ]
  },
  {
   "cell_type": "code",
   "execution_count": null,
   "metadata": {},
   "outputs": [
    {
     "name": "stdout",
     "output_type": "stream",
     "text": [
      "{'_id': ObjectId('62cc1fb7b41dcd4b1bf0e374'), 'id': ObjectId('621e2e8e67b776a24055b564'), 'type': 'heart_rate', 'data': {'dateTime': '2021-05-24T00:22:06', 'value': {'bpm': 74, 'confidence': 1}}}\n",
      "{'_id': ObjectId('62cc1fb7b41dcd4b1bf0e386'), 'id': ObjectId('621e2e8e67b776a24055b564'), 'type': 'heart_rate', 'data': {'dateTime': '2021-05-24T00:26:02', 'value': {'bpm': 71, 'confidence': 1}}}\n",
      "{'_id': ObjectId('62cc1fb7b41dcd4b1bf0e38f'), 'id': ObjectId('621e2e8e67b776a24055b564'), 'type': 'heart_rate', 'data': {'dateTime': '2021-05-24T00:26:57', 'value': {'bpm': 85, 'confidence': 1}}}\n",
      "{'_id': ObjectId('62cc1fb7b41dcd4b1bf0e398'), 'id': ObjectId('621e2e8e67b776a24055b564'), 'type': 'heart_rate', 'data': {'dateTime': '2021-05-24T00:27:47', 'value': {'bpm': 84, 'confidence': 1}}}\n",
      "{'_id': ObjectId('62cc1fb7b41dcd4b1bf0e3a1'), 'id': ObjectId('621e2e8e67b776a24055b564'), 'type': 'heart_rate', 'data': {'dateTime': '2021-05-24T00:28:37', 'value': {'bpm': 90, 'confidence': 1}}}\n",
      "{'_id': ObjectId('62cc1fb7b41dcd4b1bf0e3aa'), 'id': ObjectId('621e2e8e67b776a24055b564'), 'type': 'heart_rate', 'data': {'dateTime': '2021-05-24T00:29:22', 'value': {'bpm': 82, 'confidence': 1}}}\n",
      "{'_id': ObjectId('62cc1fb7b41dcd4b1bf0e3bc'), 'id': ObjectId('621e2e8e67b776a24055b564'), 'type': 'heart_rate', 'data': {'dateTime': '2021-05-24T00:31:02', 'value': {'bpm': 77, 'confidence': 1}}}\n",
      "{'_id': ObjectId('62cc1fb7b41dcd4b1bf0e3c5'), 'id': ObjectId('621e2e8e67b776a24055b564'), 'type': 'heart_rate', 'data': {'dateTime': '2021-05-24T00:32:02', 'value': {'bpm': 73, 'confidence': 2}}}\n",
      "{'_id': ObjectId('62cc1fb7b41dcd4b1bf0e3fa'), 'id': ObjectId('621e2e8e67b776a24055b564'), 'type': 'heart_rate', 'data': {'dateTime': '2021-05-24T00:37:22', 'value': {'bpm': 75, 'confidence': 1}}}\n",
      "{'_id': ObjectId('62cc1fb7b41dcd4b1bf0e424'), 'id': ObjectId('621e2e8e67b776a24055b564'), 'type': 'heart_rate', 'data': {'dateTime': '2021-05-24T00:43:12', 'value': {'bpm': 71, 'confidence': 1}}}\n"
     ]
    }
   ],
   "source": [
    "from bson import ObjectId\n",
    "query = {\n",
    "\t\n",
    "    \"id\": ObjectId(\"621e2e8e67b776a24055b564\"),\n",
    "    \"type\": \"heart_rate\",\n",
    "    \"data.value.bpm\": {\"$gt\":70}\n",
    "\t\n",
    "}\n",
    "docs = collection.find(query).limit(10)\n",
    "\n",
    "for doc in docs:\n",
    "    print(doc)\n"
   ]
  },
  {
   "cell_type": "code",
   "execution_count": 21,
   "metadata": {},
   "outputs": [
    {
     "data": {
      "text/html": [
       "<div>\n",
       "<style scoped>\n",
       "    .dataframe tbody tr th:only-of-type {\n",
       "        vertical-align: middle;\n",
       "    }\n",
       "\n",
       "    .dataframe tbody tr th {\n",
       "        vertical-align: top;\n",
       "    }\n",
       "\n",
       "    .dataframe thead th {\n",
       "        text-align: right;\n",
       "    }\n",
       "</style>\n",
       "<table border=\"1\" class=\"dataframe\">\n",
       "  <thead>\n",
       "    <tr style=\"text-align: right;\">\n",
       "      <th></th>\n",
       "      <th>_id</th>\n",
       "      <th>id</th>\n",
       "      <th>type</th>\n",
       "      <th>data</th>\n",
       "    </tr>\n",
       "  </thead>\n",
       "  <tbody>\n",
       "    <tr>\n",
       "      <th>0</th>\n",
       "      <td>62cc1fb7b41dcd4b1bf0e2ac</td>\n",
       "      <td>621e2e8e67b776a24055b564</td>\n",
       "      <td>heart_rate</td>\n",
       "      <td>{'dateTime': '2021-05-24T00:00:16', 'value': {...</td>\n",
       "    </tr>\n",
       "    <tr>\n",
       "      <th>1</th>\n",
       "      <td>62cc1fb7b41dcd4b1bf0e2ae</td>\n",
       "      <td>621e2e8e67b776a24055b564</td>\n",
       "      <td>heart_rate</td>\n",
       "      <td>{'dateTime': '2021-05-24T00:00:26', 'value': {...</td>\n",
       "    </tr>\n",
       "    <tr>\n",
       "      <th>2</th>\n",
       "      <td>62cc1fb7b41dcd4b1bf0e2b0</td>\n",
       "      <td>621e2e8e67b776a24055b564</td>\n",
       "      <td>heart_rate</td>\n",
       "      <td>{'dateTime': '2021-05-24T00:00:36', 'value': {...</td>\n",
       "    </tr>\n",
       "    <tr>\n",
       "      <th>3</th>\n",
       "      <td>62cc1fb7b41dcd4b1bf0e301</td>\n",
       "      <td>621e2e8e67b776a24055b564</td>\n",
       "      <td>heart_rate</td>\n",
       "      <td>{'dateTime': '2021-05-24T00:09:31', 'value': {...</td>\n",
       "    </tr>\n",
       "    <tr>\n",
       "      <th>4</th>\n",
       "      <td>62cc1fb7b41dcd4b1bf0e304</td>\n",
       "      <td>621e2e8e67b776a24055b564</td>\n",
       "      <td>heart_rate</td>\n",
       "      <td>{'dateTime': '2021-05-24T00:09:56', 'value': {...</td>\n",
       "    </tr>\n",
       "  </tbody>\n",
       "</table>\n",
       "</div>"
      ],
      "text/plain": [
       "                        _id                        id        type  \\\n",
       "0  62cc1fb7b41dcd4b1bf0e2ac  621e2e8e67b776a24055b564  heart_rate   \n",
       "1  62cc1fb7b41dcd4b1bf0e2ae  621e2e8e67b776a24055b564  heart_rate   \n",
       "2  62cc1fb7b41dcd4b1bf0e2b0  621e2e8e67b776a24055b564  heart_rate   \n",
       "3  62cc1fb7b41dcd4b1bf0e301  621e2e8e67b776a24055b564  heart_rate   \n",
       "4  62cc1fb7b41dcd4b1bf0e304  621e2e8e67b776a24055b564  heart_rate   \n",
       "\n",
       "                                                data  \n",
       "0  {'dateTime': '2021-05-24T00:00:16', 'value': {...  \n",
       "1  {'dateTime': '2021-05-24T00:00:26', 'value': {...  \n",
       "2  {'dateTime': '2021-05-24T00:00:36', 'value': {...  \n",
       "3  {'dateTime': '2021-05-24T00:09:31', 'value': {...  \n",
       "4  {'dateTime': '2021-05-24T00:09:56', 'value': {...  "
      ]
     },
     "execution_count": 21,
     "metadata": {},
     "output_type": "execute_result"
    }
   ],
   "source": [
    "import pandas as pd \n",
    "\n",
    "df = pd.DataFrame(list(collection.find(query).limit(50)))\n",
    "df.head()"
   ]
  },
  {
   "cell_type": "code",
   "execution_count": 7,
   "metadata": {},
   "outputs": [
    {
     "name": "stdout",
     "output_type": "stream",
     "text": [
      "[ObjectId('621e2e8e67b776a24055b564'), ObjectId('621e2eaf67b776a2406b14ac'), ObjectId('621e2ed667b776a24085d8d1'), ObjectId('621e2ef567b776a24099f889'), ObjectId('621e2efa67b776a2409dd1c3'), ObjectId('621e2f1b67b776a240b3d87c'), ObjectId('621e2f3967b776a240c654db'), ObjectId('621e2f5767b776a240d8f9d6'), ObjectId('621e2f6167b776a240e082a9'), ObjectId('621e2f7a67b776a240f14425'), ObjectId('621e2f9167b776a240011ccb'), ObjectId('621e2fb367b776a24015accd'), ObjectId('621e2fce67b776a240279baa'), ObjectId('621e2ff067b776a2403eb737'), ObjectId('621e300767b776a2404dc717'), ObjectId('621e301367b776a24057738e'), ObjectId('621e301e67b776a240608a72'), ObjectId('621e309267b776a240ae1cdb'), ObjectId('621e309b67b776a240b532b0'), ObjectId('621e30b267b776a240c5e13f'), ObjectId('621e30c867b776a240d4aa6c'), ObjectId('621e30e267b776a240e5bf90'), ObjectId('621e30e467b776a240e817c7'), ObjectId('621e30f467b776a240f22944'), ObjectId('621e310d67b776a24003096d'), ObjectId('621e312a67b776a240164d59'), ObjectId('621e314867b776a24029ebf9'), ObjectId('621e320b67b776a240d36a07'), ObjectId('621e322367b776a240e44e9b'), ObjectId('621e323667b776a240f19134'), ObjectId('621e324e67b776a2400191cb'), ObjectId('621e326767b776a24012e179'), ObjectId('621e328667b776a240281372'), ObjectId('621e329067b776a2402ffad2'), ObjectId('621e32af67b776a24045b4cf'), ObjectId('621e32d067b776a2405b7d54'), ObjectId('621e32d967b776a240627414'), ObjectId('621e32e667b776a2406d2f1c'), ObjectId('621e331067b776a24085dd3f'), ObjectId('621e332267b776a24092a584'), ObjectId('621e333567b776a240a0c217'), ObjectId('621e333967b776a240a3cd06'), ObjectId('621e335a67b776a240bb12ff'), ObjectId('621e337667b776a240ce78ab'), ObjectId('621e339967b776a240e502de'), ObjectId('621e33b067b776a240f39e56'), ObjectId('621e33cf67b776a240087de9'), ObjectId('621e33ed67b776a2401cf5f7'), ObjectId('621e340467b776a2402d7982'), ObjectId('621e341067b776a24037b105'), ObjectId('621e342e67b776a2404ce460'), ObjectId('621e345267b776a240691064'), ObjectId('621e345c67b776a2407146a8'), ObjectId('621e346f67b776a24081744f'), ObjectId('621e34ca67b776a240be3b69'), ObjectId('621e34db67b776a240c9c2be'), ObjectId('621e34ec67b776a240d60873'), ObjectId('621e34f767b776a240de4e1a'), ObjectId('621e34ff67b776a240e446d6'), ObjectId('621e351a67b776a240f6204b'), ObjectId('621e356967b776a24027bd9f'), ObjectId('621e360b67b776a24039709f'), ObjectId('621e362467b776a2404ad513'), ObjectId('621e366567b776a24076a727'), ObjectId('621e367e67b776a24087d75d'), ObjectId('621e36bb67b776a240b40d64'), ObjectId('621e36c267b776a240ba2756'), ObjectId('621e36dd67b776a240ce9a45'), ObjectId('621e36f967b776a240e5e7c9'), ObjectId('621e375367b776a24021e950'), ObjectId('621e375b67b776a240290cdc')]\n"
     ]
    },
    {
     "data": {
      "text/plain": [
       "<pymongo.synchronous.cursor.Cursor at 0x251cfc768a0>"
      ]
     },
     "execution_count": 7,
     "metadata": {},
     "output_type": "execute_result"
    }
   ],
   "source": [
    "from pymongo import MongoClient\n",
    "\n",
    "client = MongoClient(\"mongodb://localhost:27017\")\n",
    "\n",
    "query = {\n",
    "    \"type\": \"heart_rate\",\n",
    "    \"data.value.bpm\" : {\"$max\"}\n",
    "}\n",
    "\n",
    "\n",
    "db = client[\"lifesnaps\"]\n",
    "collection = db[\"fitbit\"]\n",
    "\n",
    "print(collection.distinct(\"id\"))\n",
    "\n",
    "\n",
    "collection.find(query)\n"
   ]
  }
 ],
 "metadata": {
  "kernelspec": {
   "display_name": "Python 3",
   "language": "python",
   "name": "python3"
  },
  "language_info": {
   "codemirror_mode": {
    "name": "ipython",
    "version": 3
   },
   "file_extension": ".py",
   "mimetype": "text/x-python",
   "name": "python",
   "nbconvert_exporter": "python",
   "pygments_lexer": "ipython3",
   "version": "3.12.10"
  }
 },
 "nbformat": 4,
 "nbformat_minor": 2
}
