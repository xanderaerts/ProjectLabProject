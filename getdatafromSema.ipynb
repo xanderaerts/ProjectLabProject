{
 "cells": [
  {
   "cell_type": "markdown",
   "id": "13ab74f5",
   "metadata": {},
   "source": [
    "# Get data from the Sema dataset"
   ]
  },
  {
   "cell_type": "code",
   "execution_count": null,
   "id": "ce05ccd2",
   "metadata": {
    "vscode": {
     "languageId": "plaintext"
    }
   },
   "outputs": [],
   "source": [
    "from pymongo import MongoClient\n",
    "\n",
    "client = MongoClient(\"mongodb://localhost:27017\")\n",
    "\n",
    "db = client[\"lifesnaps\"]\n",
    "collection = db[\"fitbit\"]\n",
    "\n",
    "doc = collection.find_one({\"type\":\"estimated_oxygen_variation\"})\n",
    "print(doc)  "
   ]
  }
 ],
 "metadata": {
  "language_info": {
   "name": "python"
  }
 },
 "nbformat": 4,
 "nbformat_minor": 5
}
