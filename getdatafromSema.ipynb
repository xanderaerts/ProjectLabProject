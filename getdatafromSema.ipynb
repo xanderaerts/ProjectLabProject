{
 "cells": [
  {
   "cell_type": "markdown",
   "id": "13ab74f5",
   "metadata": {},
   "source": [
    "# Get data from the Sema dataset"
   ]
  }
 ],
 "metadata": {
  "language_info": {
   "name": "python"
  }
 },
 "nbformat": 4,
 "nbformat_minor": 5
}
